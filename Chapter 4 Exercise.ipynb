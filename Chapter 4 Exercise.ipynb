{
 "cells": [
  {
   "cell_type": "markdown",
   "id": "6a918088",
   "metadata": {},
   "source": [
    "#  Implement Batch Gradient Desecent with Early Stopping for Softmax Regression"
   ]
  },
  {
   "cell_type": "code",
   "execution_count": 445,
   "id": "4ed26292",
   "metadata": {},
   "outputs": [
    {
     "data": {
      "text/plain": [
       "['data',\n",
       " 'target',\n",
       " 'frame',\n",
       " 'target_names',\n",
       " 'DESCR',\n",
       " 'feature_names',\n",
       " 'filename',\n",
       " 'data_module']"
      ]
     },
     "execution_count": 445,
     "metadata": {},
     "output_type": "execute_result"
    }
   ],
   "source": [
    "import numpy as np\n",
    "from sklearn import datasets\n",
    "from sklearn.model_selection import train_test_split\n",
    "from sklearn.metrics import mean_squared_error\n",
    "from sklearn.base import clone\n",
    "import matplotlib.pyplot as plt\n",
    "iris = datasets.load_iris()\n",
    "list(iris.keys())"
   ]
  },
  {
   "cell_type": "code",
   "execution_count": 446,
   "id": "5142579a",
   "metadata": {},
   "outputs": [
    {
     "name": "stdout",
     "output_type": "stream",
     "text": [
      "['sepal length (cm)', 'sepal width (cm)', 'petal length (cm)', 'petal width (cm)']\n",
      "(150, 4)\n",
      "['setosa' 'versicolor' 'virginica']\n",
      "(150,)\n"
     ]
    }
   ],
   "source": [
    "print(iris['feature_names'])\n",
    "print(iris['data'].shape)\n",
    "print(iris['target_names'])\n",
    "print(iris['target'].shape)"
   ]
  },
  {
   "cell_type": "code",
   "execution_count": 447,
   "id": "85ff3bf4",
   "metadata": {},
   "outputs": [
    {
     "data": {
      "text/plain": [
       "array([0, 0, 0, 0, 0, 0, 0, 0, 0, 0, 0, 0, 0, 0, 0, 0, 0, 0, 0, 0, 0, 0,\n",
       "       0, 0, 0, 0, 0, 0, 0, 0, 0, 0, 0, 0, 0, 0, 0, 0, 0, 0, 0, 0, 0, 0,\n",
       "       0, 0, 0, 0, 0, 0, 1, 1, 1, 1, 1, 1, 1, 1, 1, 1, 1, 1, 1, 1, 1, 1,\n",
       "       1, 1, 1, 1, 1, 1, 1, 1, 1, 1, 1, 1, 1, 1, 1, 1, 1, 1, 1, 1, 1, 1,\n",
       "       1, 1, 1, 1, 1, 1, 1, 1, 1, 1, 1, 1, 2, 2, 2, 2, 2, 2, 2, 2, 2, 2,\n",
       "       2, 2, 2, 2, 2, 2, 2, 2, 2, 2, 2, 2, 2, 2, 2, 2, 2, 2, 2, 2, 2, 2,\n",
       "       2, 2, 2, 2, 2, 2, 2, 2, 2, 2, 2, 2, 2, 2, 2, 2, 2, 2])"
      ]
     },
     "execution_count": 447,
     "metadata": {},
     "output_type": "execute_result"
    }
   ],
   "source": [
    "iris['target']"
   ]
  },
  {
   "cell_type": "markdown",
   "id": "34fd5e83",
   "metadata": {},
   "source": [
    "### 4 features, 3 Classes, 150 instances"
   ]
  },
  {
   "cell_type": "code",
   "execution_count": 515,
   "id": "85d7138d",
   "metadata": {},
   "outputs": [],
   "source": [
    "X = iris['data']\n",
    "y = iris['target']"
   ]
  },
  {
   "cell_type": "code",
   "execution_count": 516,
   "id": "1cf73cdf",
   "metadata": {},
   "outputs": [],
   "source": [
    "X_bias = np.c_[np.ones([len(X), 1]), X]\n",
    "X_, X_test, y_, y_test = train_test_split(X_bias, y, test_size = 0.2, random_state = 6)\n",
    "X_train, X_val, y_train, y_val = train_test_split(X_, y_, test_size = 0.2, random_state = 6)"
   ]
  },
  {
   "cell_type": "code",
   "execution_count": 517,
   "id": "dd81ad2b",
   "metadata": {},
   "outputs": [],
   "source": [
    "num_feat = X_train.shape[1]\n",
    "num_classes = len(iris['target_names'])\n",
    "num_instances = len(X_train)"
   ]
  },
  {
   "cell_type": "code",
   "execution_count": 518,
   "id": "bf4e8beb",
   "metadata": {},
   "outputs": [
    {
     "name": "stdout",
     "output_type": "stream",
     "text": [
      "259\n"
     ]
    }
   ],
   "source": [
    "epochs = 5000\n",
    "eta = 0.05\n",
    "epochs_stop = 175    # stop if validation error has not change after this many epochs\n",
    "\n",
    "#Theta = np.random.rand(num_feat, num_classes)\n",
    "Theta = np.zeros((num_feat, num_classes))\n",
    "gradient = np.zeros((num_feat, num_classes))\n",
    "val_error = []\n",
    "minimum_val_error = float(\"inf\")\n",
    "loss_vec = np.zeros(epochs)\n",
    "for epoch in range(epochs):\n",
    "    loss = 0\n",
    "    for k in range(num_classes):            # Too slow, vectorize this loop\n",
    "        gradient_vec = np.zeros((num_feat, num_instances))\n",
    "        for m in range(num_instances):     # Too slow, vectorize this loop\n",
    "            x = X_train[m:m+1]\n",
    "            y_k = 0\n",
    "            if y_train[m] == k:\n",
    "                y_k = 1                \n",
    "            Sk = x.dot(Theta)\n",
    "            p_hat_k = np.exp(Sk[0, k])/np.sum(np.exp(Sk))                                    \n",
    "            gradient_vec[:,m:m+1] = 1/num_instances * (p_hat_k - y_k)*x.T\n",
    "            \n",
    "        gradient[:, k] = gradient_vec.sum(axis=1) \n",
    "        loss += -1/num_instances * y_k*np.log(p_hat_k)        # cross entropy cost function\n",
    "    Theta = Theta - eta*gradient\n",
    "    loss_vec[epoch] = loss\n",
    "    \n",
    "    y_val_predict = np.argmax(X_val.dot(Theta), axis=1)    \n",
    "    val_error.append(mean_squared_error(y_val, y_val_predict))\n",
    "    if val_error[epoch]<minimum_val_error:\n",
    "        minimum_val_error = val_error[epoch]\n",
    "        best_epoch = epoch\n",
    "        best_model = Theta\n",
    "    \n",
    "    if epoch > epochs_stop:\n",
    "        if np.sum(np.abs(np.diff(val_error[epoch-epochs_stop:epoch]))) < np.finfo(float).eps:\n",
    "            break        \n",
    "                \n",
    "print(epoch)"
   ]
  },
  {
   "cell_type": "code",
   "execution_count": 519,
   "id": "77e65ba3",
   "metadata": {},
   "outputs": [
    {
     "data": {
      "text/plain": [
       "[<matplotlib.lines.Line2D at 0x1f23f53ffd0>]"
      ]
     },
     "execution_count": 519,
     "metadata": {},
     "output_type": "execute_result"
    },
    {
     "data": {
      "image/png": "[encoded data removed]",
      "text/plain": [
       "<Figure size 432x288 with 1 Axes>"
      ]
     },
     "metadata": {
      "needs_background": "light"
     },
     "output_type": "display_data"
    }
   ],
   "source": [
    "plt.plot(loss_vec[:epoch])"
   ]
  },
  {
   "cell_type": "code",
   "execution_count": 520,
   "id": "17272595",
   "metadata": {},
   "outputs": [
    {
     "data": {
      "text/plain": [
       "array([[ 0.19802069,  0.11875115, -0.31677183],\n",
       "       [ 0.38199616,  0.22614035, -0.60813651],\n",
       "       [ 0.91544495, -0.24618639, -0.66925857],\n",
       "       [-1.34916758,  0.13742861,  1.21173897],\n",
       "       [-0.63026817, -0.21471012,  0.84497829]])"
      ]
     },
     "execution_count": 520,
     "metadata": {},
     "output_type": "execute_result"
    }
   ],
   "source": [
    "Theta"
   ]
  },
  {
   "cell_type": "code",
   "execution_count": 521,
   "id": "5f0b43db",
   "metadata": {},
   "outputs": [
    {
     "data": {
      "text/plain": [
       "[<matplotlib.lines.Line2D at 0x1f23f5a7610>]"
      ]
     },
     "execution_count": 521,
     "metadata": {},
     "output_type": "execute_result"
    },
    {
     "data": {
      "image/png": "[encoded data removed]",
      "text/plain": [
       "<Figure size 432x288 with 1 Axes>"
      ]
     },
     "metadata": {
      "needs_background": "light"
     },
     "output_type": "display_data"
    }
   ],
   "source": [
    "plt.plot(val_error[0:])"
   ]
  },
  {
   "cell_type": "code",
   "execution_count": 524,
   "id": "8addede6",
   "metadata": {},
   "outputs": [
    {
     "name": "stdout",
     "output_type": "stream",
     "text": [
      "0.03333333333333333\n",
      "[0 2 0 0 2 1 2 0 2 1 2 1 2 2 1 2 2 1 1 0 0 2 0 0 1 1 1 2 0 1]\n",
      "[0 2 0 0 2 1 2 0 2 1 2 1 2 2 1 2 2 1 1 0 0 2 0 0 1 2 1 2 0 1]\n",
      "Accuracy Score 0.9666666666666667\n"
     ]
    }
   ],
   "source": [
    "    y_predict = np.argmax(X_test.dot(Theta), axis=1)    \n",
    "    print(mean_squared_error(y_test, y_predict))\n",
    "    print(y_test)\n",
    "    print(y_predict)\n",
    "    print('Accuracy Score', np.mean(y_predict==y_test))"
   ]
  },
  {
   "cell_type": "code",
   "execution_count": null,
   "id": "dd80e070",
   "metadata": {},
   "outputs": [],
   "source": []
  }
 ],
 "metadata": {
  "kernelspec": {
   "display_name": "Python 3 (ipykernel)",
   "language": "python",
   "name": "python3"
  },
  "language_info": {
   "codemirror_mode": {
    "name": "ipython",
    "version": 3
   },
   "file_extension": ".py",
   "mimetype": "text/x-python",
   "name": "python",
   "nbconvert_exporter": "python",
   "pygments_lexer": "ipython3",
   "version": "3.8.12"
  }
 },
 "nbformat": 4,
 "nbformat_minor": 5
}

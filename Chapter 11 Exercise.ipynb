{
 "cells": [
  {
   "cell_type": "code",
   "execution_count": 1,
   "id": "7fd624e7",
   "metadata": {},
   "outputs": [],
   "source": [
    "import tensorflow as tf\n",
    "from tensorflow import keras\n",
    "import numpy as np\n",
    "import matplotlib.pyplot as plt\n",
    "import scipy.misc\n",
    "\n",
    "%matplotlib inline\n",
    "import matplotlib as mpl\n",
    "import matplotlib.pyplot as plt\n",
    "mpl.rc('axes', labelsize=14)\n",
    "mpl.rc('xtick', labelsize=12)\n",
    "mpl.rc('ytick', labelsize=12)"
   ]
  },
  {
   "cell_type": "code",
   "execution_count": 2,
   "id": "3b0c3c5b",
   "metadata": {},
   "outputs": [],
   "source": [
    "(X_train_full, y_train_full), (X_test, y_test) = keras.datasets.cifar10.load_data()"
   ]
  },
  {
   "cell_type": "code",
   "execution_count": 3,
   "id": "f3037551",
   "metadata": {},
   "outputs": [
    {
     "data": {
      "text/plain": [
       "(50000, 32, 32, 3)"
      ]
     },
     "execution_count": 3,
     "metadata": {},
     "output_type": "execute_result"
    }
   ],
   "source": [
    "np.shape(X_train_full)"
   ]
  },
  {
   "cell_type": "code",
   "execution_count": 4,
   "id": "69b0038a",
   "metadata": {},
   "outputs": [],
   "source": [
    "X_train = X_train_full[:40000]/255\n",
    "X_val = X_train_full[40000:]/255\n",
    "\n",
    "y_train = y_train_full[:40000]\n",
    "y_val = y_train_full[40000:]"
   ]
  },
  {
   "cell_type": "code",
   "execution_count": 5,
   "id": "cca04697",
   "metadata": {},
   "outputs": [],
   "source": [
    "pixel_means = X_train.mean(axis=0, keepdims=True)\n",
    "pixel_stds = X_train.std(axis=0, keepdims=True)\n",
    "X_train_scaled = (X_train - pixel_means) / pixel_stds\n",
    "X_val_scaled = (X_val - pixel_means) / pixel_stds\n",
    "X_test_scaled = (X_test - pixel_means) / pixel_stds"
   ]
  },
  {
   "cell_type": "code",
   "execution_count": 33,
   "id": "5d0a0a93",
   "metadata": {},
   "outputs": [],
   "source": [
    "model1 = keras.models.Sequential()\n",
    "model1.add(keras.layers.Flatten(input_shape=[32,32,3]))\n",
    "for layers in range(20):\n",
    "    model1.add(keras.layers.Dense(100, activation='elu', kernel_initializer='HeNormal'))\n",
    "model1.add(keras.layers.Dense(10, activation=\"softmax\"))\n"
   ]
  },
  {
   "cell_type": "code",
   "execution_count": 34,
   "id": "816e3f6a",
   "metadata": {},
   "outputs": [],
   "source": [
    "K = keras.backend\n",
    "\n",
    "class ExponentialLearningRate(keras.callbacks.Callback):\n",
    "    def __init__(self, factor):\n",
    "        self.factor = factor\n",
    "        self.rates = []\n",
    "        self.losses = []\n",
    "    def on_batch_end(self, batch, logs):\n",
    "        self.rates.append(K.get_value(self.model.optimizer.learning_rate))\n",
    "        self.losses.append(logs[\"loss\"])\n",
    "        K.set_value(self.model.optimizer.learning_rate, self.model.optimizer.learning_rate * self.factor)"
   ]
  },
  {
   "cell_type": "code",
   "execution_count": 35,
   "id": "7fedf63f",
   "metadata": {},
   "outputs": [],
   "source": [
    "keras.backend.clear_session()\n",
    "np.random.seed(42)\n",
    "tf.random.set_seed(42)"
   ]
  },
  {
   "cell_type": "code",
   "execution_count": 31,
   "id": "165eea3b",
   "metadata": {},
   "outputs": [],
   "source": [
    "model1.compile(loss=\"sparse_categorical_crossentropy\",\n",
    "              optimizer=keras.optimizers.Nadam(learning_rate=1e-3), \n",
    "               metrics = 'accuracy')\n",
    "expon_lr = ExponentialLearningRate(factor=1.005)"
   ]
  },
  {
   "cell_type": "code",
   "execution_count": 32,
   "id": "96f0f453",
   "metadata": {},
   "outputs": [
    {
     "name": "stdout",
     "output_type": "stream",
     "text": [
      "WARNING:tensorflow:Model was constructed with shape (None, 32, 32) for input KerasTensor(type_spec=TensorSpec(shape=(None, 32, 32), dtype=tf.float32, name='flatten_input'), name='flatten_input', description=\"created by layer 'flatten_input'\"), but it was called on an input with incompatible shape (32, 32, 32, 3).\n"
     ]
    },
    {
     "ename": "ValueError",
     "evalue": "in user code:\n\n    C:\\Users\\jeffa\\Anaconda3\\envs\\tf2\\lib\\site-packages\\keras\\engine\\training.py:853 train_function  *\n        return step_function(self, iterator)\n    C:\\Users\\jeffa\\Anaconda3\\envs\\tf2\\lib\\site-packages\\keras\\engine\\training.py:842 step_function  **\n        outputs = model.distribute_strategy.run(run_step, args=(data,))\n    C:\\Users\\jeffa\\Anaconda3\\envs\\tf2\\lib\\site-packages\\tensorflow\\python\\distribute\\distribute_lib.py:1286 run\n        return self._extended.call_for_each_replica(fn, args=args, kwargs=kwargs)\n    C:\\Users\\jeffa\\Anaconda3\\envs\\tf2\\lib\\site-packages\\tensorflow\\python\\distribute\\distribute_lib.py:2849 call_for_each_replica\n        return self._call_for_each_replica(fn, args, kwargs)\n    C:\\Users\\jeffa\\Anaconda3\\envs\\tf2\\lib\\site-packages\\tensorflow\\python\\distribute\\distribute_lib.py:3632 _call_for_each_replica\n        return fn(*args, **kwargs)\n    C:\\Users\\jeffa\\Anaconda3\\envs\\tf2\\lib\\site-packages\\keras\\engine\\training.py:835 run_step  **\n        outputs = model.train_step(data)\n    C:\\Users\\jeffa\\Anaconda3\\envs\\tf2\\lib\\site-packages\\keras\\engine\\training.py:787 train_step\n        y_pred = self(x, training=True)\n    C:\\Users\\jeffa\\Anaconda3\\envs\\tf2\\lib\\site-packages\\keras\\engine\\base_layer.py:1037 __call__\n        outputs = call_fn(inputs, *args, **kwargs)\n    C:\\Users\\jeffa\\Anaconda3\\envs\\tf2\\lib\\site-packages\\keras\\engine\\sequential.py:369 call\n        return super(Sequential, self).call(inputs, training=training, mask=mask)\n    C:\\Users\\jeffa\\Anaconda3\\envs\\tf2\\lib\\site-packages\\keras\\engine\\functional.py:414 call\n        return self._run_internal_graph(\n    C:\\Users\\jeffa\\Anaconda3\\envs\\tf2\\lib\\site-packages\\keras\\engine\\functional.py:550 _run_internal_graph\n        outputs = node.layer(*args, **kwargs)\n    C:\\Users\\jeffa\\Anaconda3\\envs\\tf2\\lib\\site-packages\\keras\\engine\\base_layer.py:1020 __call__\n        input_spec.assert_input_compatibility(self.input_spec, inputs, self.name)\n    C:\\Users\\jeffa\\Anaconda3\\envs\\tf2\\lib\\site-packages\\keras\\engine\\input_spec.py:250 assert_input_compatibility\n        raise ValueError(\n\n    ValueError: Input 0 of layer dense is incompatible with the layer: expected axis -1 of input shape to have value 1024 but received input with shape (32, 3072)\n",
     "output_type": "error",
     "traceback": [
      "\u001b[1;31m---------------------------------------------------------------------------\u001b[0m",
      "\u001b[1;31mValueError\u001b[0m                                Traceback (most recent call last)",
      "\u001b[1;32m~\\AppData\\Local\\Temp\\ipykernel_10228\\681492958.py\u001b[0m in \u001b[0;36m<module>\u001b[1;34m\u001b[0m\n\u001b[1;32m----> 1\u001b[1;33m history = model1.fit(X_train_scaled, y_train, epochs=1,\n\u001b[0m\u001b[0;32m      2\u001b[0m                     \u001b[0mvalidation_data\u001b[0m\u001b[1;33m=\u001b[0m\u001b[1;33m(\u001b[0m\u001b[0mX_val_scaled\u001b[0m\u001b[1;33m,\u001b[0m \u001b[0my_val\u001b[0m\u001b[1;33m)\u001b[0m\u001b[1;33m,\u001b[0m\u001b[1;33m\u001b[0m\u001b[1;33m\u001b[0m\u001b[0m\n\u001b[0;32m      3\u001b[0m                     callbacks=[expon_lr])\n",
      "\u001b[1;32m~\\Anaconda3\\envs\\tf2\\lib\\site-packages\\keras\\engine\\training.py\u001b[0m in \u001b[0;36mfit\u001b[1;34m(self, x, y, batch_size, epochs, verbose, callbacks, validation_split, validation_data, shuffle, class_weight, sample_weight, initial_epoch, steps_per_epoch, validation_steps, validation_batch_size, validation_freq, max_queue_size, workers, use_multiprocessing)\u001b[0m\n\u001b[0;32m   1182\u001b[0m                 _r=1):\n\u001b[0;32m   1183\u001b[0m               \u001b[0mcallbacks\u001b[0m\u001b[1;33m.\u001b[0m\u001b[0mon_train_batch_begin\u001b[0m\u001b[1;33m(\u001b[0m\u001b[0mstep\u001b[0m\u001b[1;33m)\u001b[0m\u001b[1;33m\u001b[0m\u001b[1;33m\u001b[0m\u001b[0m\n\u001b[1;32m-> 1184\u001b[1;33m               \u001b[0mtmp_logs\u001b[0m \u001b[1;33m=\u001b[0m \u001b[0mself\u001b[0m\u001b[1;33m.\u001b[0m\u001b[0mtrain_function\u001b[0m\u001b[1;33m(\u001b[0m\u001b[0miterator\u001b[0m\u001b[1;33m)\u001b[0m\u001b[1;33m\u001b[0m\u001b[1;33m\u001b[0m\u001b[0m\n\u001b[0m\u001b[0;32m   1185\u001b[0m               \u001b[1;32mif\u001b[0m \u001b[0mdata_handler\u001b[0m\u001b[1;33m.\u001b[0m\u001b[0mshould_sync\u001b[0m\u001b[1;33m:\u001b[0m\u001b[1;33m\u001b[0m\u001b[1;33m\u001b[0m\u001b[0m\n\u001b[0;32m   1186\u001b[0m                 \u001b[0mcontext\u001b[0m\u001b[1;33m.\u001b[0m\u001b[0masync_wait\u001b[0m\u001b[1;33m(\u001b[0m\u001b[1;33m)\u001b[0m\u001b[1;33m\u001b[0m\u001b[1;33m\u001b[0m\u001b[0m\n",
      "\u001b[1;32m~\\Anaconda3\\envs\\tf2\\lib\\site-packages\\tensorflow\\python\\eager\\def_function.py\u001b[0m in \u001b[0;36m__call__\u001b[1;34m(self, *args, **kwds)\u001b[0m\n\u001b[0;32m    883\u001b[0m \u001b[1;33m\u001b[0m\u001b[0m\n\u001b[0;32m    884\u001b[0m       \u001b[1;32mwith\u001b[0m \u001b[0mOptionalXlaContext\u001b[0m\u001b[1;33m(\u001b[0m\u001b[0mself\u001b[0m\u001b[1;33m.\u001b[0m\u001b[0m_jit_compile\u001b[0m\u001b[1;33m)\u001b[0m\u001b[1;33m:\u001b[0m\u001b[1;33m\u001b[0m\u001b[1;33m\u001b[0m\u001b[0m\n\u001b[1;32m--> 885\u001b[1;33m         \u001b[0mresult\u001b[0m \u001b[1;33m=\u001b[0m \u001b[0mself\u001b[0m\u001b[1;33m.\u001b[0m\u001b[0m_call\u001b[0m\u001b[1;33m(\u001b[0m\u001b[1;33m*\u001b[0m\u001b[0margs\u001b[0m\u001b[1;33m,\u001b[0m \u001b[1;33m**\u001b[0m\u001b[0mkwds\u001b[0m\u001b[1;33m)\u001b[0m\u001b[1;33m\u001b[0m\u001b[1;33m\u001b[0m\u001b[0m\n\u001b[0m\u001b[0;32m    886\u001b[0m \u001b[1;33m\u001b[0m\u001b[0m\n\u001b[0;32m    887\u001b[0m       \u001b[0mnew_tracing_count\u001b[0m \u001b[1;33m=\u001b[0m \u001b[0mself\u001b[0m\u001b[1;33m.\u001b[0m\u001b[0mexperimental_get_tracing_count\u001b[0m\u001b[1;33m(\u001b[0m\u001b[1;33m)\u001b[0m\u001b[1;33m\u001b[0m\u001b[1;33m\u001b[0m\u001b[0m\n",
      "\u001b[1;32m~\\Anaconda3\\envs\\tf2\\lib\\site-packages\\tensorflow\\python\\eager\\def_function.py\u001b[0m in \u001b[0;36m_call\u001b[1;34m(self, *args, **kwds)\u001b[0m\n\u001b[0;32m    931\u001b[0m       \u001b[1;31m# This is the first call of __call__, so we have to initialize.\u001b[0m\u001b[1;33m\u001b[0m\u001b[1;33m\u001b[0m\u001b[1;33m\u001b[0m\u001b[0m\n\u001b[0;32m    932\u001b[0m       \u001b[0minitializers\u001b[0m \u001b[1;33m=\u001b[0m \u001b[1;33m[\u001b[0m\u001b[1;33m]\u001b[0m\u001b[1;33m\u001b[0m\u001b[1;33m\u001b[0m\u001b[0m\n\u001b[1;32m--> 933\u001b[1;33m       \u001b[0mself\u001b[0m\u001b[1;33m.\u001b[0m\u001b[0m_initialize\u001b[0m\u001b[1;33m(\u001b[0m\u001b[0margs\u001b[0m\u001b[1;33m,\u001b[0m \u001b[0mkwds\u001b[0m\u001b[1;33m,\u001b[0m \u001b[0madd_initializers_to\u001b[0m\u001b[1;33m=\u001b[0m\u001b[0minitializers\u001b[0m\u001b[1;33m)\u001b[0m\u001b[1;33m\u001b[0m\u001b[1;33m\u001b[0m\u001b[0m\n\u001b[0m\u001b[0;32m    934\u001b[0m     \u001b[1;32mfinally\u001b[0m\u001b[1;33m:\u001b[0m\u001b[1;33m\u001b[0m\u001b[1;33m\u001b[0m\u001b[0m\n\u001b[0;32m    935\u001b[0m       \u001b[1;31m# At this point we know that the initialization is complete (or less\u001b[0m\u001b[1;33m\u001b[0m\u001b[1;33m\u001b[0m\u001b[1;33m\u001b[0m\u001b[0m\n",
      "\u001b[1;32m~\\Anaconda3\\envs\\tf2\\lib\\site-packages\\tensorflow\\python\\eager\\def_function.py\u001b[0m in \u001b[0;36m_initialize\u001b[1;34m(self, args, kwds, add_initializers_to)\u001b[0m\n\u001b[0;32m    757\u001b[0m     \u001b[0mself\u001b[0m\u001b[1;33m.\u001b[0m\u001b[0m_graph_deleter\u001b[0m \u001b[1;33m=\u001b[0m \u001b[0mFunctionDeleter\u001b[0m\u001b[1;33m(\u001b[0m\u001b[0mself\u001b[0m\u001b[1;33m.\u001b[0m\u001b[0m_lifted_initializer_graph\u001b[0m\u001b[1;33m)\u001b[0m\u001b[1;33m\u001b[0m\u001b[1;33m\u001b[0m\u001b[0m\n\u001b[0;32m    758\u001b[0m     self._concrete_stateful_fn = (\n\u001b[1;32m--> 759\u001b[1;33m         self._stateful_fn._get_concrete_function_internal_garbage_collected(  # pylint: disable=protected-access\n\u001b[0m\u001b[0;32m    760\u001b[0m             *args, **kwds))\n\u001b[0;32m    761\u001b[0m \u001b[1;33m\u001b[0m\u001b[0m\n",
      "\u001b[1;32m~\\Anaconda3\\envs\\tf2\\lib\\site-packages\\tensorflow\\python\\eager\\function.py\u001b[0m in \u001b[0;36m_get_concrete_function_internal_garbage_collected\u001b[1;34m(self, *args, **kwargs)\u001b[0m\n\u001b[0;32m   3064\u001b[0m       \u001b[0margs\u001b[0m\u001b[1;33m,\u001b[0m \u001b[0mkwargs\u001b[0m \u001b[1;33m=\u001b[0m \u001b[1;32mNone\u001b[0m\u001b[1;33m,\u001b[0m \u001b[1;32mNone\u001b[0m\u001b[1;33m\u001b[0m\u001b[1;33m\u001b[0m\u001b[0m\n\u001b[0;32m   3065\u001b[0m     \u001b[1;32mwith\u001b[0m \u001b[0mself\u001b[0m\u001b[1;33m.\u001b[0m\u001b[0m_lock\u001b[0m\u001b[1;33m:\u001b[0m\u001b[1;33m\u001b[0m\u001b[1;33m\u001b[0m\u001b[0m\n\u001b[1;32m-> 3066\u001b[1;33m       \u001b[0mgraph_function\u001b[0m\u001b[1;33m,\u001b[0m \u001b[0m_\u001b[0m \u001b[1;33m=\u001b[0m \u001b[0mself\u001b[0m\u001b[1;33m.\u001b[0m\u001b[0m_maybe_define_function\u001b[0m\u001b[1;33m(\u001b[0m\u001b[0margs\u001b[0m\u001b[1;33m,\u001b[0m \u001b[0mkwargs\u001b[0m\u001b[1;33m)\u001b[0m\u001b[1;33m\u001b[0m\u001b[1;33m\u001b[0m\u001b[0m\n\u001b[0m\u001b[0;32m   3067\u001b[0m     \u001b[1;32mreturn\u001b[0m \u001b[0mgraph_function\u001b[0m\u001b[1;33m\u001b[0m\u001b[1;33m\u001b[0m\u001b[0m\n\u001b[0;32m   3068\u001b[0m \u001b[1;33m\u001b[0m\u001b[0m\n",
      "\u001b[1;32m~\\Anaconda3\\envs\\tf2\\lib\\site-packages\\tensorflow\\python\\eager\\function.py\u001b[0m in \u001b[0;36m_maybe_define_function\u001b[1;34m(self, args, kwargs)\u001b[0m\n\u001b[0;32m   3461\u001b[0m \u001b[1;33m\u001b[0m\u001b[0m\n\u001b[0;32m   3462\u001b[0m           \u001b[0mself\u001b[0m\u001b[1;33m.\u001b[0m\u001b[0m_function_cache\u001b[0m\u001b[1;33m.\u001b[0m\u001b[0mmissed\u001b[0m\u001b[1;33m.\u001b[0m\u001b[0madd\u001b[0m\u001b[1;33m(\u001b[0m\u001b[0mcall_context_key\u001b[0m\u001b[1;33m)\u001b[0m\u001b[1;33m\u001b[0m\u001b[1;33m\u001b[0m\u001b[0m\n\u001b[1;32m-> 3463\u001b[1;33m           \u001b[0mgraph_function\u001b[0m \u001b[1;33m=\u001b[0m \u001b[0mself\u001b[0m\u001b[1;33m.\u001b[0m\u001b[0m_create_graph_function\u001b[0m\u001b[1;33m(\u001b[0m\u001b[0margs\u001b[0m\u001b[1;33m,\u001b[0m \u001b[0mkwargs\u001b[0m\u001b[1;33m)\u001b[0m\u001b[1;33m\u001b[0m\u001b[1;33m\u001b[0m\u001b[0m\n\u001b[0m\u001b[0;32m   3464\u001b[0m           \u001b[0mself\u001b[0m\u001b[1;33m.\u001b[0m\u001b[0m_function_cache\u001b[0m\u001b[1;33m.\u001b[0m\u001b[0mprimary\u001b[0m\u001b[1;33m[\u001b[0m\u001b[0mcache_key\u001b[0m\u001b[1;33m]\u001b[0m \u001b[1;33m=\u001b[0m \u001b[0mgraph_function\u001b[0m\u001b[1;33m\u001b[0m\u001b[1;33m\u001b[0m\u001b[0m\n\u001b[0;32m   3465\u001b[0m \u001b[1;33m\u001b[0m\u001b[0m\n",
      "\u001b[1;32m~\\Anaconda3\\envs\\tf2\\lib\\site-packages\\tensorflow\\python\\eager\\function.py\u001b[0m in \u001b[0;36m_create_graph_function\u001b[1;34m(self, args, kwargs, override_flat_arg_shapes)\u001b[0m\n\u001b[0;32m   3296\u001b[0m     \u001b[0marg_names\u001b[0m \u001b[1;33m=\u001b[0m \u001b[0mbase_arg_names\u001b[0m \u001b[1;33m+\u001b[0m \u001b[0mmissing_arg_names\u001b[0m\u001b[1;33m\u001b[0m\u001b[1;33m\u001b[0m\u001b[0m\n\u001b[0;32m   3297\u001b[0m     graph_function = ConcreteFunction(\n\u001b[1;32m-> 3298\u001b[1;33m         func_graph_module.func_graph_from_py_func(\n\u001b[0m\u001b[0;32m   3299\u001b[0m             \u001b[0mself\u001b[0m\u001b[1;33m.\u001b[0m\u001b[0m_name\u001b[0m\u001b[1;33m,\u001b[0m\u001b[1;33m\u001b[0m\u001b[1;33m\u001b[0m\u001b[0m\n\u001b[0;32m   3300\u001b[0m             \u001b[0mself\u001b[0m\u001b[1;33m.\u001b[0m\u001b[0m_python_function\u001b[0m\u001b[1;33m,\u001b[0m\u001b[1;33m\u001b[0m\u001b[1;33m\u001b[0m\u001b[0m\n",
      "\u001b[1;32m~\\Anaconda3\\envs\\tf2\\lib\\site-packages\\tensorflow\\python\\framework\\func_graph.py\u001b[0m in \u001b[0;36mfunc_graph_from_py_func\u001b[1;34m(name, python_func, args, kwargs, signature, func_graph, autograph, autograph_options, add_control_dependencies, arg_names, op_return_value, collections, capture_by_value, override_flat_arg_shapes, acd_record_initial_resource_uses)\u001b[0m\n\u001b[0;32m   1005\u001b[0m         \u001b[0m_\u001b[0m\u001b[1;33m,\u001b[0m \u001b[0moriginal_func\u001b[0m \u001b[1;33m=\u001b[0m \u001b[0mtf_decorator\u001b[0m\u001b[1;33m.\u001b[0m\u001b[0munwrap\u001b[0m\u001b[1;33m(\u001b[0m\u001b[0mpython_func\u001b[0m\u001b[1;33m)\u001b[0m\u001b[1;33m\u001b[0m\u001b[1;33m\u001b[0m\u001b[0m\n\u001b[0;32m   1006\u001b[0m \u001b[1;33m\u001b[0m\u001b[0m\n\u001b[1;32m-> 1007\u001b[1;33m       \u001b[0mfunc_outputs\u001b[0m \u001b[1;33m=\u001b[0m \u001b[0mpython_func\u001b[0m\u001b[1;33m(\u001b[0m\u001b[1;33m*\u001b[0m\u001b[0mfunc_args\u001b[0m\u001b[1;33m,\u001b[0m \u001b[1;33m**\u001b[0m\u001b[0mfunc_kwargs\u001b[0m\u001b[1;33m)\u001b[0m\u001b[1;33m\u001b[0m\u001b[1;33m\u001b[0m\u001b[0m\n\u001b[0m\u001b[0;32m   1008\u001b[0m \u001b[1;33m\u001b[0m\u001b[0m\n\u001b[0;32m   1009\u001b[0m       \u001b[1;31m# invariant: `func_outputs` contains only Tensors, CompositeTensors,\u001b[0m\u001b[1;33m\u001b[0m\u001b[1;33m\u001b[0m\u001b[1;33m\u001b[0m\u001b[0m\n",
      "\u001b[1;32m~\\Anaconda3\\envs\\tf2\\lib\\site-packages\\tensorflow\\python\\eager\\def_function.py\u001b[0m in \u001b[0;36mwrapped_fn\u001b[1;34m(*args, **kwds)\u001b[0m\n\u001b[0;32m    666\u001b[0m         \u001b[1;31m# the function a weak reference to itself to avoid a reference cycle.\u001b[0m\u001b[1;33m\u001b[0m\u001b[1;33m\u001b[0m\u001b[1;33m\u001b[0m\u001b[0m\n\u001b[0;32m    667\u001b[0m         \u001b[1;32mwith\u001b[0m \u001b[0mOptionalXlaContext\u001b[0m\u001b[1;33m(\u001b[0m\u001b[0mcompile_with_xla\u001b[0m\u001b[1;33m)\u001b[0m\u001b[1;33m:\u001b[0m\u001b[1;33m\u001b[0m\u001b[1;33m\u001b[0m\u001b[0m\n\u001b[1;32m--> 668\u001b[1;33m           \u001b[0mout\u001b[0m \u001b[1;33m=\u001b[0m \u001b[0mweak_wrapped_fn\u001b[0m\u001b[1;33m(\u001b[0m\u001b[1;33m)\u001b[0m\u001b[1;33m.\u001b[0m\u001b[0m__wrapped__\u001b[0m\u001b[1;33m(\u001b[0m\u001b[1;33m*\u001b[0m\u001b[0margs\u001b[0m\u001b[1;33m,\u001b[0m \u001b[1;33m**\u001b[0m\u001b[0mkwds\u001b[0m\u001b[1;33m)\u001b[0m\u001b[1;33m\u001b[0m\u001b[1;33m\u001b[0m\u001b[0m\n\u001b[0m\u001b[0;32m    669\u001b[0m         \u001b[1;32mreturn\u001b[0m \u001b[0mout\u001b[0m\u001b[1;33m\u001b[0m\u001b[1;33m\u001b[0m\u001b[0m\n\u001b[0;32m    670\u001b[0m \u001b[1;33m\u001b[0m\u001b[0m\n",
      "\u001b[1;32m~\\Anaconda3\\envs\\tf2\\lib\\site-packages\\tensorflow\\python\\framework\\func_graph.py\u001b[0m in \u001b[0;36mwrapper\u001b[1;34m(*args, **kwargs)\u001b[0m\n\u001b[0;32m    992\u001b[0m           \u001b[1;32mexcept\u001b[0m \u001b[0mException\u001b[0m \u001b[1;32mas\u001b[0m \u001b[0me\u001b[0m\u001b[1;33m:\u001b[0m  \u001b[1;31m# pylint:disable=broad-except\u001b[0m\u001b[1;33m\u001b[0m\u001b[1;33m\u001b[0m\u001b[0m\n\u001b[0;32m    993\u001b[0m             \u001b[1;32mif\u001b[0m \u001b[0mhasattr\u001b[0m\u001b[1;33m(\u001b[0m\u001b[0me\u001b[0m\u001b[1;33m,\u001b[0m \u001b[1;34m\"ag_error_metadata\"\u001b[0m\u001b[1;33m)\u001b[0m\u001b[1;33m:\u001b[0m\u001b[1;33m\u001b[0m\u001b[1;33m\u001b[0m\u001b[0m\n\u001b[1;32m--> 994\u001b[1;33m               \u001b[1;32mraise\u001b[0m \u001b[0me\u001b[0m\u001b[1;33m.\u001b[0m\u001b[0mag_error_metadata\u001b[0m\u001b[1;33m.\u001b[0m\u001b[0mto_exception\u001b[0m\u001b[1;33m(\u001b[0m\u001b[0me\u001b[0m\u001b[1;33m)\u001b[0m\u001b[1;33m\u001b[0m\u001b[1;33m\u001b[0m\u001b[0m\n\u001b[0m\u001b[0;32m    995\u001b[0m             \u001b[1;32melse\u001b[0m\u001b[1;33m:\u001b[0m\u001b[1;33m\u001b[0m\u001b[1;33m\u001b[0m\u001b[0m\n\u001b[0;32m    996\u001b[0m               \u001b[1;32mraise\u001b[0m\u001b[1;33m\u001b[0m\u001b[1;33m\u001b[0m\u001b[0m\n",
      "\u001b[1;31mValueError\u001b[0m: in user code:\n\n    C:\\Users\\jeffa\\Anaconda3\\envs\\tf2\\lib\\site-packages\\keras\\engine\\training.py:853 train_function  *\n        return step_function(self, iterator)\n    C:\\Users\\jeffa\\Anaconda3\\envs\\tf2\\lib\\site-packages\\keras\\engine\\training.py:842 step_function  **\n        outputs = model.distribute_strategy.run(run_step, args=(data,))\n    C:\\Users\\jeffa\\Anaconda3\\envs\\tf2\\lib\\site-packages\\tensorflow\\python\\distribute\\distribute_lib.py:1286 run\n        return self._extended.call_for_each_replica(fn, args=args, kwargs=kwargs)\n    C:\\Users\\jeffa\\Anaconda3\\envs\\tf2\\lib\\site-packages\\tensorflow\\python\\distribute\\distribute_lib.py:2849 call_for_each_replica\n        return self._call_for_each_replica(fn, args, kwargs)\n    C:\\Users\\jeffa\\Anaconda3\\envs\\tf2\\lib\\site-packages\\tensorflow\\python\\distribute\\distribute_lib.py:3632 _call_for_each_replica\n        return fn(*args, **kwargs)\n    C:\\Users\\jeffa\\Anaconda3\\envs\\tf2\\lib\\site-packages\\keras\\engine\\training.py:835 run_step  **\n        outputs = model.train_step(data)\n    C:\\Users\\jeffa\\Anaconda3\\envs\\tf2\\lib\\site-packages\\keras\\engine\\training.py:787 train_step\n        y_pred = self(x, training=True)\n    C:\\Users\\jeffa\\Anaconda3\\envs\\tf2\\lib\\site-packages\\keras\\engine\\base_layer.py:1037 __call__\n        outputs = call_fn(inputs, *args, **kwargs)\n    C:\\Users\\jeffa\\Anaconda3\\envs\\tf2\\lib\\site-packages\\keras\\engine\\sequential.py:369 call\n        return super(Sequential, self).call(inputs, training=training, mask=mask)\n    C:\\Users\\jeffa\\Anaconda3\\envs\\tf2\\lib\\site-packages\\keras\\engine\\functional.py:414 call\n        return self._run_internal_graph(\n    C:\\Users\\jeffa\\Anaconda3\\envs\\tf2\\lib\\site-packages\\keras\\engine\\functional.py:550 _run_internal_graph\n        outputs = node.layer(*args, **kwargs)\n    C:\\Users\\jeffa\\Anaconda3\\envs\\tf2\\lib\\site-packages\\keras\\engine\\base_layer.py:1020 __call__\n        input_spec.assert_input_compatibility(self.input_spec, inputs, self.name)\n    C:\\Users\\jeffa\\Anaconda3\\envs\\tf2\\lib\\site-packages\\keras\\engine\\input_spec.py:250 assert_input_compatibility\n        raise ValueError(\n\n    ValueError: Input 0 of layer dense is incompatible with the layer: expected axis -1 of input shape to have value 1024 but received input with shape (32, 3072)\n"
     ]
    }
   ],
   "source": [
    "history = model1.fit(X_train_scaled, y_train, epochs=1,\n",
    "                    validation_data=(X_val_scaled, y_val),\n",
    "                    callbacks=[expon_lr])"
   ]
  },
  {
   "cell_type": "code",
   "execution_count": 26,
   "id": "cfec1ea7",
   "metadata": {},
   "outputs": [
    {
     "data": {
      "text/plain": [
       "Text(0, 0.5, 'Loss')"
      ]
     },
     "execution_count": 26,
     "metadata": {},
     "output_type": "execute_result"
    },
    {
     "data": {
      "image/png": "[encoded data removed]",
      "text/plain": [
       "<Figure size 432x288 with 1 Axes>"
      ]
     },
     "metadata": {
      "needs_background": "light"
     },
     "output_type": "display_data"
    }
   ],
   "source": [
    "plt.plot(expon_lr.rates, expon_lr.losses)\n",
    "plt.gca().set_xscale('log')\n",
    "plt.hlines(min(expon_lr.losses), min(expon_lr.rates), max(expon_lr.rates))\n",
    "plt.axis([min(expon_lr.rates), max(expon_lr.rates), 0, 4])\n",
    "plt.grid()\n",
    "plt.xlabel(\"Learning rate\")\n",
    "plt.ylabel(\"Loss\")"
   ]
  },
  {
   "cell_type": "code",
   "execution_count": 22,
   "id": "58bb26de",
   "metadata": {},
   "outputs": [
    {
     "data": {
      "text/plain": [
       "0.008081417"
      ]
     },
     "execution_count": 22,
     "metadata": {},
     "output_type": "execute_result"
    }
   ],
   "source": [
    "expon_lr.rates[210]"
   ]
  },
  {
   "cell_type": "code",
   "execution_count": null,
   "id": "eadca0ae",
   "metadata": {},
   "outputs": [],
   "source": [
    "keras.backend.clear_session()\n",
    "model1.reset_states()\n"
   ]
  },
  {
   "cell_type": "code",
   "execution_count": 36,
   "id": "0b69c3ff",
   "metadata": {},
   "outputs": [
    {
     "name": "stdout",
     "output_type": "stream",
     "text": [
      "Epoch 1/100\n",
      "1250/1250 [==============================] - 61s 47ms/step - loss: 1.9493 - accuracy: 0.2952 - val_loss: 1.7789 - val_accuracy: 0.3576\n",
      "Epoch 2/100\n",
      "1250/1250 [==============================] - 59s 47ms/step - loss: 1.7277 - accuracy: 0.3768 - val_loss: 1.7100 - val_accuracy: 0.3901\n",
      "Epoch 3/100\n",
      "1250/1250 [==============================] - 58s 46ms/step - loss: 1.6453 - accuracy: 0.4076 - val_loss: 1.6311 - val_accuracy: 0.4176\n",
      "Epoch 4/100\n",
      "1250/1250 [==============================] - 58s 47ms/step - loss: 1.5838 - accuracy: 0.4298 - val_loss: 1.6149 - val_accuracy: 0.4179\n",
      "Epoch 5/100\n",
      "1250/1250 [==============================] - 57s 46ms/step - loss: 1.5382 - accuracy: 0.4441 - val_loss: 1.5789 - val_accuracy: 0.4371\n",
      "Epoch 6/100\n",
      "1250/1250 [==============================] - 54s 43ms/step - loss: 1.5054 - accuracy: 0.4594 - val_loss: 1.5896 - val_accuracy: 0.4344\n",
      "Epoch 7/100\n",
      "1250/1250 [==============================] - 52s 41ms/step - loss: 1.4746 - accuracy: 0.4716 - val_loss: 1.5490 - val_accuracy: 0.4477\n",
      "Epoch 8/100\n",
      "1250/1250 [==============================] - 57s 46ms/step - loss: 1.4473 - accuracy: 0.4807 - val_loss: 1.5273 - val_accuracy: 0.4617\n",
      "Epoch 9/100\n",
      "1250/1250 [==============================] - 60s 48ms/step - loss: 1.4221 - accuracy: 0.4883 - val_loss: 1.5426 - val_accuracy: 0.4483\n",
      "Epoch 10/100\n",
      "1250/1250 [==============================] - 55s 44ms/step - loss: 1.3985 - accuracy: 0.4974 - val_loss: 1.5155 - val_accuracy: 0.4622\n",
      "Epoch 11/100\n",
      "1250/1250 [==============================] - 56s 45ms/step - loss: 1.3808 - accuracy: 0.5046 - val_loss: 1.4875 - val_accuracy: 0.4770\n",
      "Epoch 12/100\n",
      "1250/1250 [==============================] - 57s 46ms/step - loss: 1.3577 - accuracy: 0.5133 - val_loss: 1.5040 - val_accuracy: 0.4693\n",
      "Epoch 13/100\n",
      "1250/1250 [==============================] - 59s 47ms/step - loss: 1.3390 - accuracy: 0.5184 - val_loss: 1.5024 - val_accuracy: 0.4724\n",
      "Epoch 14/100\n",
      "1250/1250 [==============================] - 60s 48ms/step - loss: 1.3195 - accuracy: 0.5250 - val_loss: 1.4995 - val_accuracy: 0.4695\n",
      "Epoch 15/100\n",
      "1250/1250 [==============================] - 52s 42ms/step - loss: 1.3016 - accuracy: 0.5334 - val_loss: 1.5190 - val_accuracy: 0.4631\n",
      "Epoch 16/100\n",
      "1250/1250 [==============================] - 54s 43ms/step - loss: 1.2857 - accuracy: 0.5368 - val_loss: 1.4847 - val_accuracy: 0.4749\n",
      "Epoch 17/100\n",
      "1250/1250 [==============================] - 50s 40ms/step - loss: 1.2709 - accuracy: 0.5422 - val_loss: 1.4677 - val_accuracy: 0.4839\n",
      "Epoch 18/100\n",
      "1250/1250 [==============================] - 51s 41ms/step - loss: 1.2541 - accuracy: 0.5498 - val_loss: 1.5044 - val_accuracy: 0.4747\n",
      "Epoch 19/100\n",
      "1250/1250 [==============================] - 60s 48ms/step - loss: 1.2374 - accuracy: 0.5550 - val_loss: 1.4670 - val_accuracy: 0.4836\n",
      "Epoch 20/100\n",
      "1250/1250 [==============================] - 60s 48ms/step - loss: 1.2224 - accuracy: 0.5606 - val_loss: 1.4967 - val_accuracy: 0.4753\n",
      "Epoch 21/100\n",
      "1250/1250 [==============================] - 58s 47ms/step - loss: 1.2072 - accuracy: 0.5647 - val_loss: 1.5168 - val_accuracy: 0.4675\n",
      "Epoch 22/100\n",
      "1250/1250 [==============================] - 55s 44ms/step - loss: 1.1935 - accuracy: 0.5717 - val_loss: 1.4709 - val_accuracy: 0.4875\n",
      "Epoch 23/100\n",
      "1250/1250 [==============================] - 58s 46ms/step - loss: 1.1793 - accuracy: 0.5785 - val_loss: 1.5169 - val_accuracy: 0.4792\n",
      "Epoch 24/100\n",
      "1250/1250 [==============================] - 52s 42ms/step - loss: 1.1638 - accuracy: 0.5823 - val_loss: 1.5004 - val_accuracy: 0.4820\n",
      "Epoch 25/100\n",
      "1250/1250 [==============================] - 51s 41ms/step - loss: 1.1505 - accuracy: 0.5883 - val_loss: 1.5092 - val_accuracy: 0.4835\n",
      "Epoch 26/100\n",
      "1250/1250 [==============================] - 55s 44ms/step - loss: 1.1375 - accuracy: 0.5899 - val_loss: 1.5059 - val_accuracy: 0.4902\n",
      "Epoch 27/100\n",
      "1250/1250 [==============================] - 54s 43ms/step - loss: 1.1220 - accuracy: 0.5993 - val_loss: 1.5081 - val_accuracy: 0.4868\n",
      "Epoch 28/100\n",
      "1250/1250 [==============================] - 57s 46ms/step - loss: 1.1054 - accuracy: 0.6035 - val_loss: 1.5462 - val_accuracy: 0.4728\n",
      "Epoch 29/100\n",
      "1250/1250 [==============================] - 47s 38ms/step - loss: 1.0967 - accuracy: 0.6089 - val_loss: 1.4890 - val_accuracy: 0.4938\n",
      "Epoch 30/100\n",
      "1250/1250 [==============================] - 51s 40ms/step - loss: 1.0854 - accuracy: 0.6092 - val_loss: 1.5750 - val_accuracy: 0.4656\n",
      "Epoch 31/100\n",
      "1250/1250 [==============================] - 54s 43ms/step - loss: 1.0690 - accuracy: 0.6161 - val_loss: 1.5377 - val_accuracy: 0.4885\n",
      "Epoch 32/100\n",
      "1250/1250 [==============================] - 52s 42ms/step - loss: 1.0540 - accuracy: 0.6212 - val_loss: 1.5711 - val_accuracy: 0.4763\n",
      "Epoch 33/100\n",
      "1250/1250 [==============================] - 55s 44ms/step - loss: 1.0455 - accuracy: 0.6241 - val_loss: 1.5690 - val_accuracy: 0.4789\n",
      "Epoch 34/100\n",
      "1250/1250 [==============================] - 52s 41ms/step - loss: 1.0317 - accuracy: 0.6281 - val_loss: 1.5684 - val_accuracy: 0.4848\n",
      "Epoch 35/100\n",
      "1250/1250 [==============================] - 48s 39ms/step - loss: 1.0220 - accuracy: 0.6331 - val_loss: 1.5484 - val_accuracy: 0.4915\n",
      "Epoch 36/100\n",
      "1250/1250 [==============================] - 55s 44ms/step - loss: 1.0062 - accuracy: 0.6381 - val_loss: 1.5772 - val_accuracy: 0.4839\n",
      "Epoch 37/100\n",
      "1250/1250 [==============================] - 52s 42ms/step - loss: 0.9976 - accuracy: 0.6407 - val_loss: 1.5937 - val_accuracy: 0.4793\n",
      "Epoch 38/100\n",
      "1250/1250 [==============================] - 58s 46ms/step - loss: 0.9813 - accuracy: 0.6466 - val_loss: 1.5846 - val_accuracy: 0.4854\n",
      "Epoch 39/100\n",
      "1250/1250 [==============================] - 57s 46ms/step - loss: 0.9708 - accuracy: 0.6511 - val_loss: 1.6222 - val_accuracy: 0.4890\n"
     ]
    }
   ],
   "source": [
    "model1.compile(loss=\"sparse_categorical_crossentropy\",\n",
    "              optimizer=keras.optimizers.Nadam(learning_rate=5e-5), \n",
    "               metrics = 'accuracy')\n",
    "early_stopping_cb = keras.callbacks.EarlyStopping(patience=20, restore_best_weights=True)\n",
    "checkpoint_cb = keras.callbacks.ModelCheckpoint(\"my_keras_model.h5\", save_best_only=True)\n",
    "\n",
    "history = model1.fit(X_train, y_train, epochs=100,\n",
    "                    validation_data=(X_val, y_val),\n",
    "                    callbacks=[checkpoint_cb, early_stopping_cb])"
   ]
  },
  {
   "cell_type": "code",
   "execution_count": 37,
   "id": "40c05175",
   "metadata": {},
   "outputs": [
    {
     "data": {
      "text/plain": [
       "<AxesSubplot:>"
      ]
     },
     "execution_count": 37,
     "metadata": {},
     "output_type": "execute_result"
    },
    {
     "data": {
      "image/png": "[encoded data removed]",
      "text/plain": [
       "<Figure size 432x288 with 1 Axes>"
      ]
     },
     "metadata": {
      "needs_background": "light"
     },
     "output_type": "display_data"
    }
   ],
   "source": [
    "import pandas as pd\n",
    "\n",
    "pd.DataFrame(history.history).plot()"
   ]
  },
  {
   "cell_type": "code",
   "execution_count": 58,
   "id": "8e975fef",
   "metadata": {},
   "outputs": [],
   "source": [
    "model2 = keras.models.Sequential()\n",
    "model2.add(keras.layers.Flatten(input_shape=[32,32,3]))\n",
    "for layers in range(20):\n",
    "    model2.add(keras.layers.Dense(100, kernel_initializer='HeNormal'))\n",
    "    model2.add(keras.layers.BatchNormalization())\n",
    "    model2.add(keras.layers.Activation(\"elu\"))\n",
    "model2.add(keras.layers.Dense(10, activation=\"softmax\"))\n",
    "\n",
    "model2.compile(loss=\"sparse_categorical_crossentropy\",\n",
    "              optimizer=keras.optimizers.Nadam(learning_rate=1e-5), \n",
    "               metrics = 'accuracy')\n",
    "expon_lr = ExponentialLearningRate(factor=1.01)"
   ]
  },
  {
   "cell_type": "code",
   "execution_count": 56,
   "id": "95f6dfce",
   "metadata": {},
   "outputs": [
    {
     "name": "stdout",
     "output_type": "stream",
     "text": [
      "1250/1250 [==============================] - 147s 114ms/step - loss: 37.0723 - accuracy: 0.1952 - val_loss: 628420.8125 - val_accuracy: 0.1022\n"
     ]
    }
   ],
   "source": [
    "history = model2.fit(X_train_scaled, y_train, epochs=1,\n",
    "                    validation_data=(X_val_scaled, y_val),\n",
    "                    callbacks=[expon_lr])"
   ]
  },
  {
   "cell_type": "code",
   "execution_count": 57,
   "id": "97b02551",
   "metadata": {},
   "outputs": [
    {
     "data": {
      "text/plain": [
       "Text(0, 0.5, 'Loss')"
      ]
     },
     "execution_count": 57,
     "metadata": {},
     "output_type": "execute_result"
    },
    {
     "data": {
      "image/png": "[encoded data removed]",
      "text/plain": [
       "<Figure size 432x288 with 1 Axes>"
      ]
     },
     "metadata": {
      "needs_background": "light"
     },
     "output_type": "display_data"
    }
   ],
   "source": [
    "plt.plot(expon_lr.rates, expon_lr.losses)\n",
    "plt.gca().set_xscale('log')\n",
    "plt.hlines(min(expon_lr.losses), min(expon_lr.rates), max(expon_lr.rates))\n",
    "plt.axis([min(expon_lr.rates), max(expon_lr.rates), 0, 4])\n",
    "plt.grid()\n",
    "plt.xlabel(\"Learning rate\")\n",
    "plt.ylabel(\"Loss\")"
   ]
  },
  {
   "cell_type": "code",
   "execution_count": 53,
   "id": "36fcbc31",
   "metadata": {},
   "outputs": [
    {
     "data": {
      "text/plain": [
       "0.27692914"
      ]
     },
     "execution_count": 53,
     "metadata": {},
     "output_type": "execute_result"
    }
   ],
   "source": [
    "expon_lr.rates[1028]"
   ]
  },
  {
   "cell_type": "code",
   "execution_count": 59,
   "id": "3c9be4c3",
   "metadata": {},
   "outputs": [
    {
     "name": "stdout",
     "output_type": "stream",
     "text": [
      "Epoch 1/100\n",
      "1250/1250 [==============================] - 141s 109ms/step - loss: 1.8467 - accuracy: 0.3356 - val_loss: 1.8515 - val_accuracy: 0.3452\n",
      "Epoch 2/100\n",
      "1250/1250 [==============================] - 134s 107ms/step - loss: 1.6892 - accuracy: 0.3983 - val_loss: 2.0812 - val_accuracy: 0.3135\n",
      "Epoch 3/100\n",
      "1250/1250 [==============================] - 123s 98ms/step - loss: 1.6259 - accuracy: 0.4207 - val_loss: 1.6859 - val_accuracy: 0.4026\n",
      "Epoch 4/100\n",
      "1250/1250 [==============================] - 137s 110ms/step - loss: 1.5803 - accuracy: 0.4382 - val_loss: 1.6887 - val_accuracy: 0.3965\n",
      "Epoch 5/100\n",
      "1250/1250 [==============================] - 126s 101ms/step - loss: 1.5315 - accuracy: 0.4512 - val_loss: 1.5932 - val_accuracy: 0.4408\n",
      "Epoch 6/100\n",
      "1250/1250 [==============================] - 149s 119ms/step - loss: 1.4968 - accuracy: 0.4677 - val_loss: 1.6441 - val_accuracy: 0.4228\n",
      "Epoch 7/100\n",
      "1250/1250 [==============================] - 134s 107ms/step - loss: 1.4603 - accuracy: 0.4848 - val_loss: 1.6259 - val_accuracy: 0.4403\n",
      "Epoch 8/100\n",
      "1250/1250 [==============================] - 129s 103ms/step - loss: 1.4278 - accuracy: 0.4918 - val_loss: 1.5685 - val_accuracy: 0.4506\n",
      "Epoch 9/100\n",
      "1250/1250 [==============================] - 145s 116ms/step - loss: 1.4012 - accuracy: 0.5044 - val_loss: 1.5420 - val_accuracy: 0.4640\n",
      "Epoch 10/100\n",
      "1250/1250 [==============================] - 139s 111ms/step - loss: 1.3773 - accuracy: 0.5144 - val_loss: 1.5289 - val_accuracy: 0.4581\n",
      "Epoch 11/100\n",
      "1250/1250 [==============================] - 145s 116ms/step - loss: 1.3483 - accuracy: 0.5263 - val_loss: 1.5475 - val_accuracy: 0.4618\n",
      "Epoch 12/100\n",
      "1250/1250 [==============================] - 142s 114ms/step - loss: 1.3263 - accuracy: 0.5290 - val_loss: 1.5219 - val_accuracy: 0.4674\n",
      "Epoch 13/100\n",
      "1250/1250 [==============================] - 149s 119ms/step - loss: 1.3024 - accuracy: 0.5397 - val_loss: 1.5369 - val_accuracy: 0.4620\n",
      "Epoch 14/100\n",
      "1250/1250 [==============================] - 150s 120ms/step - loss: 1.2844 - accuracy: 0.5484 - val_loss: 1.6139 - val_accuracy: 0.4536\n",
      "Epoch 15/100\n",
      "1250/1250 [==============================] - 143s 115ms/step - loss: 1.2648 - accuracy: 0.5555 - val_loss: 1.4634 - val_accuracy: 0.4933\n",
      "Epoch 16/100\n",
      "1250/1250 [==============================] - 145s 116ms/step - loss: 1.2402 - accuracy: 0.5620 - val_loss: 1.6782 - val_accuracy: 0.4271\n",
      "Epoch 17/100\n",
      "1250/1250 [==============================] - 140s 112ms/step - loss: 1.2261 - accuracy: 0.5676 - val_loss: 1.5287 - val_accuracy: 0.4638\n",
      "Epoch 18/100\n",
      "1250/1250 [==============================] - 144s 115ms/step - loss: 1.2105 - accuracy: 0.5747 - val_loss: 1.6947 - val_accuracy: 0.4598\n",
      "Epoch 19/100\n",
      "1250/1250 [==============================] - 142s 114ms/step - loss: 1.1954 - accuracy: 0.5807 - val_loss: 1.6432 - val_accuracy: 0.4576\n",
      "Epoch 20/100\n",
      "1250/1250 [==============================] - 136s 109ms/step - loss: 1.1797 - accuracy: 0.5875 - val_loss: 1.5567 - val_accuracy: 0.4793\n",
      "Epoch 21/100\n",
      "1250/1250 [==============================] - 126s 101ms/step - loss: 1.1585 - accuracy: 0.5910 - val_loss: 1.5657 - val_accuracy: 0.4728\n",
      "Epoch 22/100\n",
      "1250/1250 [==============================] - 120s 96ms/step - loss: 1.1406 - accuracy: 0.6024 - val_loss: 1.4667 - val_accuracy: 0.4860\n",
      "Epoch 23/100\n",
      "1250/1250 [==============================] - 145s 116ms/step - loss: 1.1294 - accuracy: 0.6013 - val_loss: 1.4699 - val_accuracy: 0.5017\n",
      "Epoch 24/100\n",
      "1250/1250 [==============================] - 149s 119ms/step - loss: 1.1092 - accuracy: 0.6095 - val_loss: 1.5615 - val_accuracy: 0.4830\n",
      "Epoch 25/100\n",
      "1250/1250 [==============================] - 149s 119ms/step - loss: 1.0998 - accuracy: 0.6153 - val_loss: 1.4980 - val_accuracy: 0.4918\n",
      "Epoch 26/100\n",
      "1250/1250 [==============================] - 145s 116ms/step - loss: 1.0910 - accuracy: 0.6167 - val_loss: 1.5089 - val_accuracy: 0.4966\n",
      "Epoch 27/100\n",
      "1250/1250 [==============================] - 118s 94ms/step - loss: 1.0750 - accuracy: 0.6223 - val_loss: 1.4789 - val_accuracy: 0.5025\n",
      "Epoch 28/100\n",
      "1250/1250 [==============================] - 129s 103ms/step - loss: 1.0574 - accuracy: 0.6272 - val_loss: 1.6286 - val_accuracy: 0.4718\n",
      "Epoch 29/100\n",
      "1250/1250 [==============================] - 143s 114ms/step - loss: 1.0468 - accuracy: 0.6327 - val_loss: 1.4837 - val_accuracy: 0.5022\n",
      "Epoch 30/100\n",
      "1250/1250 [==============================] - 128s 102ms/step - loss: 1.0336 - accuracy: 0.6384 - val_loss: 1.4719 - val_accuracy: 0.5043\n",
      "Epoch 31/100\n",
      "1250/1250 [==============================] - 141s 112ms/step - loss: 1.0307 - accuracy: 0.6387 - val_loss: 1.5014 - val_accuracy: 0.4920\n",
      "Epoch 32/100\n",
      "1250/1250 [==============================] - 125s 100ms/step - loss: 1.0073 - accuracy: 0.6454 - val_loss: 1.5670 - val_accuracy: 0.4860\n",
      "Epoch 33/100\n",
      "1250/1250 [==============================] - 147s 117ms/step - loss: 1.0008 - accuracy: 0.6469 - val_loss: 1.6361 - val_accuracy: 0.4609\n",
      "Epoch 34/100\n",
      "1250/1250 [==============================] - 130s 104ms/step - loss: 0.9868 - accuracy: 0.6539 - val_loss: 1.5494 - val_accuracy: 0.4924\n",
      "Epoch 35/100\n",
      "1250/1250 [==============================] - 127s 102ms/step - loss: 0.9716 - accuracy: 0.6599 - val_loss: 1.7785 - val_accuracy: 0.4397\n"
     ]
    }
   ],
   "source": [
    "model2.compile(loss=\"sparse_categorical_crossentropy\",\n",
    "              optimizer=keras.optimizers.Nadam(learning_rate=1e-3), \n",
    "               metrics = 'accuracy')\n",
    "early_stopping_cb = keras.callbacks.EarlyStopping(patience=20, restore_best_weights=True)\n",
    "checkpoint_cb = keras.callbacks.ModelCheckpoint(\"CIFAR10_model2.h5\", save_best_only=True)\n",
    "\n",
    "history = model2.fit(X_train, y_train, epochs=100,\n",
    "                    validation_data=(X_val, y_val),\n",
    "                    callbacks=[checkpoint_cb, early_stopping_cb])"
   ]
  },
  {
   "cell_type": "code",
   "execution_count": 60,
   "id": "8d30d680",
   "metadata": {},
   "outputs": [
    {
     "data": {
      "text/plain": [
       "<AxesSubplot:>"
      ]
     },
     "execution_count": 60,
     "metadata": {},
     "output_type": "execute_result"
    },
    {
     "data": {
      "image/png": "[encoded data removed]",
      "text/plain": [
       "<Figure size 432x288 with 1 Axes>"
      ]
     },
     "metadata": {
      "needs_background": "light"
     },
     "output_type": "display_data"
    }
   ],
   "source": [
    "pd.DataFrame(history.history).plot()"
   ]
  },
  {
   "cell_type": "code",
   "execution_count": 73,
   "id": "db05d05c",
   "metadata": {},
   "outputs": [],
   "source": [
    "model3 = keras.models.Sequential()\n",
    "model3.add(keras.layers.Flatten(input_shape=[32,32,3]))\n",
    "for layers in range(20):\n",
    "    model3.add(keras.layers.Dense(100, activation ='selu', kernel_initializer='lecun_normal'))    \n",
    "model3.add(keras.layers.Dense(10, activation=\"softmax\"))\n",
    "\n",
    "model3.compile(loss=\"sparse_categorical_crossentropy\",\n",
    "              optimizer=keras.optimizers.Nadam(learning_rate=1e-5), \n",
    "               metrics = 'accuracy')\n",
    "expon_lr = ExponentialLearningRate(factor=1.01)"
   ]
  },
  {
   "cell_type": "code",
   "execution_count": 64,
   "id": "fb50cc9a",
   "metadata": {},
   "outputs": [
    {
     "name": "stdout",
     "output_type": "stream",
     "text": [
      "   6/1250 [..............................] - ETA: 1:11 - loss: 2.8626 - accuracy: 0.0938WARNING:tensorflow:Callback method `on_train_batch_end` is slow compared to the batch time (batch time: 0.0154s vs `on_train_batch_end` time: 0.0393s). Check your callbacks.\n",
      "1250/1250 [==============================] - 60s 46ms/step - loss: 130288972401527458106571449434112.0000 - accuracy: 0.1576 - val_loss: 751130718697990862863647446663168.0000 - val_accuracy: 0.1014\n"
     ]
    }
   ],
   "source": [
    "history = model3.fit(X_train_scaled, y_train, epochs=1,\n",
    "                    validation_data=(X_val_scaled, y_val),\n",
    "                    callbacks=[expon_lr])"
   ]
  },
  {
   "cell_type": "code",
   "execution_count": 65,
   "id": "31208d95",
   "metadata": {},
   "outputs": [
    {
     "data": {
      "text/plain": [
       "Text(0, 0.5, 'Loss')"
      ]
     },
     "execution_count": 65,
     "metadata": {},
     "output_type": "execute_result"
    },
    {
     "data": {
      "image/png": "[encoded data removed]",
      "text/plain": [
       "<Figure size 432x288 with 1 Axes>"
      ]
     },
     "metadata": {
      "needs_background": "light"
     },
     "output_type": "display_data"
    }
   ],
   "source": [
    "plt.plot(expon_lr.rates, expon_lr.losses)\n",
    "plt.gca().set_xscale('log')\n",
    "plt.hlines(min(expon_lr.losses), min(expon_lr.rates), max(expon_lr.rates))\n",
    "plt.axis([min(expon_lr.rates), max(expon_lr.rates), 0, 4])\n",
    "plt.grid()\n",
    "plt.xlabel(\"Learning rate\")\n",
    "plt.ylabel(\"Loss\")"
   ]
  },
  {
   "cell_type": "code",
   "execution_count": 70,
   "id": "f6e27840",
   "metadata": {},
   "outputs": [],
   "source": [
    "model3.reset_metrics()\n",
    "model3.reset_states()\n",
    "keras.backend.clear_session()"
   ]
  },
  {
   "cell_type": "code",
   "execution_count": 74,
   "id": "77c619e3",
   "metadata": {},
   "outputs": [
    {
     "name": "stdout",
     "output_type": "stream",
     "text": [
      "Epoch 1/100\n",
      "1250/1250 [==============================] - 62s 47ms/step - loss: 1.9153 - accuracy: 0.3029 - val_loss: 1.7650 - val_accuracy: 0.3561\n",
      "Epoch 2/100\n",
      "1250/1250 [==============================] - 57s 45ms/step - loss: 1.7210 - accuracy: 0.3785 - val_loss: 1.7266 - val_accuracy: 0.3824\n",
      "Epoch 3/100\n",
      "1250/1250 [==============================] - 59s 47ms/step - loss: 1.6470 - accuracy: 0.4086 - val_loss: 1.6236 - val_accuracy: 0.4247\n",
      "Epoch 4/100\n",
      "1250/1250 [==============================] - 61s 49ms/step - loss: 1.5869 - accuracy: 0.4295 - val_loss: 1.5961 - val_accuracy: 0.4230\n",
      "Epoch 5/100\n",
      "1250/1250 [==============================] - 59s 48ms/step - loss: 1.5401 - accuracy: 0.4457 - val_loss: 1.6162 - val_accuracy: 0.4248\n",
      "Epoch 6/100\n",
      "1250/1250 [==============================] - 59s 48ms/step - loss: 1.5005 - accuracy: 0.4592 - val_loss: 1.6250 - val_accuracy: 0.4176\n",
      "Epoch 7/100\n",
      "1250/1250 [==============================] - 60s 48ms/step - loss: 1.4720 - accuracy: 0.4721 - val_loss: 1.5269 - val_accuracy: 0.4544\n",
      "Epoch 8/100\n",
      "1250/1250 [==============================] - 60s 48ms/step - loss: 1.4414 - accuracy: 0.4828 - val_loss: 1.5050 - val_accuracy: 0.4682\n",
      "Epoch 9/100\n",
      "1250/1250 [==============================] - 60s 48ms/step - loss: 1.4137 - accuracy: 0.4906 - val_loss: 1.4987 - val_accuracy: 0.4692\n",
      "Epoch 10/100\n",
      "1250/1250 [==============================] - 59s 48ms/step - loss: 1.3923 - accuracy: 0.5005 - val_loss: 1.4879 - val_accuracy: 0.4708\n",
      "Epoch 11/100\n",
      "1250/1250 [==============================] - 60s 48ms/step - loss: 1.3719 - accuracy: 0.5075 - val_loss: 1.5012 - val_accuracy: 0.4689\n",
      "Epoch 12/100\n",
      "1250/1250 [==============================] - 57s 45ms/step - loss: 1.3522 - accuracy: 0.5133 - val_loss: 1.4633 - val_accuracy: 0.4802\n",
      "Epoch 13/100\n",
      "1250/1250 [==============================] - 58s 47ms/step - loss: 1.3295 - accuracy: 0.5220 - val_loss: 1.5019 - val_accuracy: 0.4767\n",
      "Epoch 14/100\n",
      "1250/1250 [==============================] - 46s 37ms/step - loss: 1.3112 - accuracy: 0.5260 - val_loss: 1.4770 - val_accuracy: 0.4748\n",
      "Epoch 15/100\n",
      "1250/1250 [==============================] - 49s 39ms/step - loss: 1.2920 - accuracy: 0.5372 - val_loss: 1.4936 - val_accuracy: 0.4727\n",
      "Epoch 16/100\n",
      "1250/1250 [==============================] - 49s 39ms/step - loss: 1.2787 - accuracy: 0.5383 - val_loss: 1.4809 - val_accuracy: 0.4833\n",
      "Epoch 17/100\n",
      "1250/1250 [==============================] - 50s 40ms/step - loss: 1.2575 - accuracy: 0.5464 - val_loss: 1.4508 - val_accuracy: 0.4937\n",
      "Epoch 18/100\n",
      "1250/1250 [==============================] - 61s 49ms/step - loss: 1.2438 - accuracy: 0.5529 - val_loss: 1.4916 - val_accuracy: 0.4848\n",
      "Epoch 19/100\n",
      "1250/1250 [==============================] - 60s 48ms/step - loss: 1.2257 - accuracy: 0.5560 - val_loss: 1.4508 - val_accuracy: 0.4924\n",
      "Epoch 20/100\n",
      "1250/1250 [==============================] - 58s 47ms/step - loss: 1.2085 - accuracy: 0.5655 - val_loss: 1.5135 - val_accuracy: 0.4787\n",
      "Epoch 21/100\n",
      "1250/1250 [==============================] - 60s 48ms/step - loss: 1.1925 - accuracy: 0.5699 - val_loss: 1.4819 - val_accuracy: 0.4878\n",
      "Epoch 22/100\n",
      "1250/1250 [==============================] - 61s 49ms/step - loss: 1.1732 - accuracy: 0.5799 - val_loss: 1.4506 - val_accuracy: 0.5000\n",
      "Epoch 23/100\n",
      "1250/1250 [==============================] - 61s 49ms/step - loss: 1.1552 - accuracy: 0.5843 - val_loss: 1.4830 - val_accuracy: 0.4924\n",
      "Epoch 24/100\n",
      "1250/1250 [==============================] - 61s 49ms/step - loss: 1.1418 - accuracy: 0.5901 - val_loss: 1.4610 - val_accuracy: 0.4961\n",
      "Epoch 25/100\n",
      "1250/1250 [==============================] - 60s 48ms/step - loss: 1.1273 - accuracy: 0.5933 - val_loss: 1.4775 - val_accuracy: 0.5009\n",
      "Epoch 26/100\n",
      "1250/1250 [==============================] - 60s 48ms/step - loss: 1.1120 - accuracy: 0.5988 - val_loss: 1.5016 - val_accuracy: 0.5012\n",
      "Epoch 27/100\n",
      "1250/1250 [==============================] - 56s 45ms/step - loss: 1.0945 - accuracy: 0.6077 - val_loss: 1.5131 - val_accuracy: 0.4949\n",
      "Epoch 28/100\n",
      "1250/1250 [==============================] - 49s 39ms/step - loss: 1.0766 - accuracy: 0.6128 - val_loss: 1.5184 - val_accuracy: 0.4889\n",
      "Epoch 29/100\n",
      "1250/1250 [==============================] - 49s 39ms/step - loss: 1.0634 - accuracy: 0.6170 - val_loss: 1.4928 - val_accuracy: 0.5071\n",
      "Epoch 30/100\n",
      "1250/1250 [==============================] - 49s 39ms/step - loss: 1.0503 - accuracy: 0.6195 - val_loss: 1.5023 - val_accuracy: 0.4961\n",
      "Epoch 31/100\n",
      "1250/1250 [==============================] - 49s 39ms/step - loss: 1.0351 - accuracy: 0.6287 - val_loss: 1.4967 - val_accuracy: 0.4996\n",
      "Epoch 32/100\n",
      "1250/1250 [==============================] - 53s 43ms/step - loss: 1.0146 - accuracy: 0.6336 - val_loss: 1.5497 - val_accuracy: 0.5021\n",
      "Epoch 33/100\n",
      "1250/1250 [==============================] - 61s 48ms/step - loss: 1.0045 - accuracy: 0.6360 - val_loss: 1.5197 - val_accuracy: 0.4938\n",
      "Epoch 34/100\n",
      "1250/1250 [==============================] - 60s 48ms/step - loss: 0.9883 - accuracy: 0.6453 - val_loss: 1.5035 - val_accuracy: 0.5084\n",
      "Epoch 35/100\n",
      "1250/1250 [==============================] - 59s 47ms/step - loss: 0.9743 - accuracy: 0.6485 - val_loss: 1.5320 - val_accuracy: 0.5020\n",
      "Epoch 36/100\n",
      "1250/1250 [==============================] - 59s 47ms/step - loss: 0.9602 - accuracy: 0.6554 - val_loss: 1.5695 - val_accuracy: 0.4929\n",
      "Epoch 37/100\n",
      "1250/1250 [==============================] - 56s 45ms/step - loss: 0.9459 - accuracy: 0.6605 - val_loss: 1.5315 - val_accuracy: 0.5009\n",
      "Epoch 38/100\n",
      "1250/1250 [==============================] - 53s 43ms/step - loss: 0.9290 - accuracy: 0.6637 - val_loss: 1.5807 - val_accuracy: 0.5061\n",
      "Epoch 39/100\n",
      "1250/1250 [==============================] - 55s 44ms/step - loss: 0.9155 - accuracy: 0.6704 - val_loss: 1.5626 - val_accuracy: 0.5054\n",
      "Epoch 40/100\n",
      "1250/1250 [==============================] - 56s 44ms/step - loss: 0.8980 - accuracy: 0.6779 - val_loss: 1.6231 - val_accuracy: 0.5009\n",
      "Epoch 41/100\n",
      "1250/1250 [==============================] - 57s 45ms/step - loss: 0.8824 - accuracy: 0.6814 - val_loss: 1.6493 - val_accuracy: 0.4954\n",
      "Epoch 42/100\n",
      "1250/1250 [==============================] - 59s 47ms/step - loss: 0.8717 - accuracy: 0.6848 - val_loss: 1.6616 - val_accuracy: 0.4959\n"
     ]
    }
   ],
   "source": [
    "model3.compile(loss=\"sparse_categorical_crossentropy\",\n",
    "              optimizer=keras.optimizers.Nadam(learning_rate=1e-4), \n",
    "               metrics = 'accuracy')\n",
    "early_stopping_cb = keras.callbacks.EarlyStopping(patience=20, restore_best_weights=True)\n",
    "checkpoint_cb = keras.callbacks.ModelCheckpoint(\"CIFAR10_model3.h5\", save_best_only=True)\n",
    "\n",
    "history = model3.fit(X_train, y_train, epochs=100,\n",
    "                    validation_data=(X_val, y_val),\n",
    "                    callbacks=[checkpoint_cb, early_stopping_cb])"
   ]
  },
  {
   "cell_type": "code",
   "execution_count": 77,
   "id": "84508cbb",
   "metadata": {},
   "outputs": [],
   "source": [
    "model4 = keras.models.Sequential()\n",
    "model4.add(keras.layers.Flatten(input_shape=[32,32,3]))\n",
    "model4.add(keras.layers.AlphaDropout(0.2, seed=6))\n",
    "for layers in range(20):\n",
    "    model4.add(keras.layers.Dense(100, activation ='selu', kernel_initializer='lecun_normal'))  \n",
    "    model4.add(keras.layers.AlphaDropout(0.2, seed=6))\n",
    "    \n",
    "model4.add(keras.layers.Dense(10, activation=\"softmax\"))\n",
    "\n",
    "model4.compile(loss=\"sparse_categorical_crossentropy\",\n",
    "              optimizer=keras.optimizers.Nadam(learning_rate=1e-5), \n",
    "               metrics = 'accuracy')\n",
    "expon_lr = ExponentialLearningRate(factor=1.01)"
   ]
  },
  {
   "cell_type": "code",
   "execution_count": 78,
   "id": "f046703a",
   "metadata": {},
   "outputs": [
    {
     "name": "stdout",
     "output_type": "stream",
     "text": [
      "   6/1250 [..............................] - ETA: 1:20 - loss: 3.1947 - accuracy: 0.0677WARNING:tensorflow:Callback method `on_train_batch_end` is slow compared to the batch time (batch time: 0.0174s vs `on_train_batch_end` time: 0.0458s). Check your callbacks.\n",
      "1250/1250 [==============================] - 69s 53ms/step - loss: nan - accuracy: 0.1039 - val_loss: nan - val_accuracy: 0.1014\n"
     ]
    }
   ],
   "source": [
    "history = model4.fit(X_train_scaled, y_train, epochs=1,\n",
    "                    validation_data=(X_val_scaled, y_val),\n",
    "                    callbacks=[expon_lr])"
   ]
  },
  {
   "cell_type": "code",
   "execution_count": 79,
   "id": "68707d9a",
   "metadata": {},
   "outputs": [
    {
     "data": {
      "text/plain": [
       "Text(0, 0.5, 'Loss')"
      ]
     },
     "execution_count": 79,
     "metadata": {},
     "output_type": "execute_result"
    },
    {
     "data": {
      "image/png": "[encoded data removed]",
      "text/plain": [
       "<Figure size 432x288 with 1 Axes>"
      ]
     },
     "metadata": {
      "needs_background": "light"
     },
     "output_type": "display_data"
    }
   ],
   "source": [
    "plt.plot(expon_lr.rates, expon_lr.losses)\n",
    "plt.gca().set_xscale('log')\n",
    "plt.hlines(min(expon_lr.losses), min(expon_lr.rates), max(expon_lr.rates))\n",
    "plt.axis([min(expon_lr.rates), max(expon_lr.rates), 0, 4])\n",
    "plt.grid()\n",
    "plt.xlabel(\"Learning rate\")\n",
    "plt.ylabel(\"Loss\")"
   ]
  },
  {
   "cell_type": "code",
   "execution_count": 85,
   "id": "2198a346",
   "metadata": {},
   "outputs": [],
   "source": [
    "model4 = keras.models.Sequential()\n",
    "model4.add(keras.layers.Flatten(input_shape=[32,32,3]))\n",
    "for layers in range(20):\n",
    "    model4.add(keras.layers.Dense(100, activation ='selu', kernel_initializer='lecun_normal'))  \n",
    "    \n",
    "model4.add(keras.layers.AlphaDropout(0.1, seed=6))\n",
    "model4.add(keras.layers.Dense(10, activation=\"softmax\"))\n"
   ]
  },
  {
   "cell_type": "code",
   "execution_count": 86,
   "id": "9d7643af",
   "metadata": {},
   "outputs": [
    {
     "name": "stdout",
     "output_type": "stream",
     "text": [
      "Epoch 1/100\n",
      "1250/1250 [==============================] - 63s 49ms/step - loss: 2.0924 - accuracy: 0.2364 - val_loss: 1.9449 - val_accuracy: 0.2881\n",
      "Epoch 2/100\n",
      "1250/1250 [==============================] - 55s 44ms/step - loss: 1.8673 - accuracy: 0.3211 - val_loss: 1.8700 - val_accuracy: 0.3341\n",
      "Epoch 3/100\n",
      "1250/1250 [==============================] - 58s 47ms/step - loss: 1.7828 - accuracy: 0.3567 - val_loss: 1.7572 - val_accuracy: 0.3742\n",
      "Epoch 4/100\n",
      "1250/1250 [==============================] - 55s 44ms/step - loss: 1.7193 - accuracy: 0.3801 - val_loss: 1.6879 - val_accuracy: 0.3944\n",
      "Epoch 5/100\n",
      "1250/1250 [==============================] - 56s 45ms/step - loss: 1.6721 - accuracy: 0.4008 - val_loss: 1.7052 - val_accuracy: 0.3942\n",
      "Epoch 6/100\n",
      "1250/1250 [==============================] - 57s 45ms/step - loss: 1.6344 - accuracy: 0.4153 - val_loss: 1.6615 - val_accuracy: 0.4143\n",
      "Epoch 7/100\n",
      "1250/1250 [==============================] - 60s 48ms/step - loss: 1.6057 - accuracy: 0.4294 - val_loss: 1.6933 - val_accuracy: 0.4128\n",
      "Epoch 8/100\n",
      "1250/1250 [==============================] - 62s 49ms/step - loss: 1.5731 - accuracy: 0.4422 - val_loss: 1.6349 - val_accuracy: 0.4242\n",
      "Epoch 9/100\n",
      "1250/1250 [==============================] - 60s 48ms/step - loss: 1.5454 - accuracy: 0.4544 - val_loss: 1.6193 - val_accuracy: 0.4353\n",
      "Epoch 10/100\n",
      "1250/1250 [==============================] - 60s 48ms/step - loss: 1.5232 - accuracy: 0.4618 - val_loss: 1.6439 - val_accuracy: 0.4453\n",
      "Epoch 11/100\n",
      "1250/1250 [==============================] - 64s 51ms/step - loss: 1.5023 - accuracy: 0.4702 - val_loss: 1.6327 - val_accuracy: 0.4514\n",
      "Epoch 12/100\n",
      "1250/1250 [==============================] - 63s 50ms/step - loss: 1.4825 - accuracy: 0.4728 - val_loss: 1.5632 - val_accuracy: 0.4649\n",
      "Epoch 13/100\n",
      "1250/1250 [==============================] - 62s 49ms/step - loss: 1.4665 - accuracy: 0.4828 - val_loss: 1.5889 - val_accuracy: 0.4542\n",
      "Epoch 14/100\n",
      "1250/1250 [==============================] - 56s 45ms/step - loss: 1.4454 - accuracy: 0.4890 - val_loss: 1.6115 - val_accuracy: 0.4513\n",
      "Epoch 15/100\n",
      "1250/1250 [==============================] - 53s 43ms/step - loss: 1.4254 - accuracy: 0.4981 - val_loss: 1.5915 - val_accuracy: 0.4591\n",
      "Epoch 16/100\n",
      "1250/1250 [==============================] - 59s 47ms/step - loss: 1.4147 - accuracy: 0.4959 - val_loss: 1.5567 - val_accuracy: 0.4646\n",
      "Epoch 17/100\n",
      "1250/1250 [==============================] - 62s 49ms/step - loss: 1.3893 - accuracy: 0.5067 - val_loss: 1.6082 - val_accuracy: 0.4649\n",
      "Epoch 18/100\n",
      "1250/1250 [==============================] - 58s 46ms/step - loss: 1.3844 - accuracy: 0.5134 - val_loss: 1.5705 - val_accuracy: 0.4613\n",
      "Epoch 19/100\n",
      "1250/1250 [==============================] - 55s 44ms/step - loss: 1.3635 - accuracy: 0.5174 - val_loss: 1.5646 - val_accuracy: 0.4727\n",
      "Epoch 20/100\n",
      "1250/1250 [==============================] - 57s 45ms/step - loss: 1.3519 - accuracy: 0.5232 - val_loss: 1.5957 - val_accuracy: 0.4553\n",
      "Epoch 21/100\n",
      "1250/1250 [==============================] - 57s 46ms/step - loss: 1.3407 - accuracy: 0.5278 - val_loss: 1.6104 - val_accuracy: 0.4723\n",
      "Epoch 22/100\n",
      "1250/1250 [==============================] - 55s 44ms/step - loss: 1.3214 - accuracy: 0.5350 - val_loss: 1.5456 - val_accuracy: 0.4815\n",
      "Epoch 23/100\n",
      "1250/1250 [==============================] - 56s 45ms/step - loss: 1.3125 - accuracy: 0.5388 - val_loss: 1.5234 - val_accuracy: 0.4781\n",
      "Epoch 24/100\n",
      "1250/1250 [==============================] - 64s 51ms/step - loss: 1.3050 - accuracy: 0.5413 - val_loss: 1.5522 - val_accuracy: 0.4848\n",
      "Epoch 25/100\n",
      "1250/1250 [==============================] - 65s 52ms/step - loss: 1.3452 - accuracy: 0.5227 - val_loss: 1.5688 - val_accuracy: 0.4802\n",
      "Epoch 26/100\n",
      "1250/1250 [==============================] - 63s 51ms/step - loss: 1.2774 - accuracy: 0.5469 - val_loss: 1.5605 - val_accuracy: 0.4945\n",
      "Epoch 27/100\n",
      "1250/1250 [==============================] - 59s 47ms/step - loss: 1.2566 - accuracy: 0.5573 - val_loss: 1.5431 - val_accuracy: 0.4963\n",
      "Epoch 28/100\n",
      "1250/1250 [==============================] - 57s 45ms/step - loss: 1.2471 - accuracy: 0.5619 - val_loss: 1.6083 - val_accuracy: 0.4761\n",
      "Epoch 29/100\n",
      "1250/1250 [==============================] - 51s 41ms/step - loss: 1.2367 - accuracy: 0.5656 - val_loss: 1.5744 - val_accuracy: 0.4963\n",
      "Epoch 30/100\n",
      "1250/1250 [==============================] - 52s 42ms/step - loss: 1.2260 - accuracy: 0.5677 - val_loss: 1.6056 - val_accuracy: 0.4826\n",
      "Epoch 31/100\n",
      "1250/1250 [==============================] - 52s 41ms/step - loss: 1.2069 - accuracy: 0.5756 - val_loss: 1.5436 - val_accuracy: 0.4931\n",
      "Epoch 32/100\n",
      "1250/1250 [==============================] - 62s 50ms/step - loss: 1.1987 - accuracy: 0.5803 - val_loss: 1.6334 - val_accuracy: 0.4921\n",
      "Epoch 33/100\n",
      "1250/1250 [==============================] - 61s 48ms/step - loss: 1.1838 - accuracy: 0.5840 - val_loss: 1.5656 - val_accuracy: 0.4869\n",
      "Epoch 34/100\n",
      "1250/1250 [==============================] - 61s 49ms/step - loss: 1.1762 - accuracy: 0.5875 - val_loss: 1.6396 - val_accuracy: 0.4986\n",
      "Epoch 35/100\n",
      "1250/1250 [==============================] - 60s 48ms/step - loss: 1.1589 - accuracy: 0.5931 - val_loss: 1.6165 - val_accuracy: 0.5013\n",
      "Epoch 36/100\n",
      "1250/1250 [==============================] - 64s 51ms/step - loss: 1.1472 - accuracy: 0.6010 - val_loss: 1.5967 - val_accuracy: 0.4984\n",
      "Epoch 37/100\n",
      "1250/1250 [==============================] - 61s 48ms/step - loss: 1.1315 - accuracy: 0.6026 - val_loss: 1.6133 - val_accuracy: 0.5057\n",
      "Epoch 38/100\n",
      "1250/1250 [==============================] - 60s 48ms/step - loss: 1.1266 - accuracy: 0.6055 - val_loss: 1.6322 - val_accuracy: 0.4994\n",
      "Epoch 39/100\n",
      "1250/1250 [==============================] - 60s 48ms/step - loss: 1.1111 - accuracy: 0.6127 - val_loss: 1.6340 - val_accuracy: 0.4920\n",
      "Epoch 40/100\n",
      "1250/1250 [==============================] - 60s 48ms/step - loss: 1.1029 - accuracy: 0.6137 - val_loss: 1.6363 - val_accuracy: 0.5103\n",
      "Epoch 41/100\n",
      "1250/1250 [==============================] - 61s 49ms/step - loss: 1.0878 - accuracy: 0.6183 - val_loss: 1.6522 - val_accuracy: 0.5006\n",
      "Epoch 42/100\n",
      "1250/1250 [==============================] - 50s 40ms/step - loss: 1.0837 - accuracy: 0.6197 - val_loss: 1.6595 - val_accuracy: 0.4945\n",
      "Epoch 43/100\n",
      "1250/1250 [==============================] - 53s 43ms/step - loss: 1.0744 - accuracy: 0.6212 - val_loss: 1.6650 - val_accuracy: 0.5033\n"
     ]
    }
   ],
   "source": [
    "model4.compile(loss=\"sparse_categorical_crossentropy\",\n",
    "              optimizer=keras.optimizers.Nadam(learning_rate=5e-4), \n",
    "               metrics = 'accuracy')\n",
    "early_stopping_cb = keras.callbacks.EarlyStopping(patience=20, restore_best_weights=True)\n",
    "checkpoint_cb = keras.callbacks.ModelCheckpoint(\"CIFAR10_model3.h5\", save_best_only=True)\n",
    "\n",
    "history = model4.fit(X_train, y_train, epochs=100,\n",
    "                    validation_data=(X_val, y_val),\n",
    "                    callbacks=[checkpoint_cb, early_stopping_cb])"
   ]
  },
  {
   "cell_type": "code",
   "execution_count": 88,
   "id": "201074c4",
   "metadata": {},
   "outputs": [],
   "source": [
    "class MCAlphaDropout(keras.layers.AlphaDropout):\n",
    "    def call(self, inputs):\n",
    "        return super().call(inputs, training=True)\n",
    "    \n",
    "\n",
    "model5 = keras.models.Sequential([\n",
    "    MCAlphaDropout(layer.rate) if isinstance(layer, keras.layers.AlphaDropout) else layer for layer in model4.layers\n",
    "])\n",
    "\n"
   ]
  },
  {
   "cell_type": "code",
   "execution_count": 89,
   "id": "4fa24274",
   "metadata": {},
   "outputs": [],
   "source": [
    "def mc_dropout_predict_probas(mc_model, X, n_samples=10):\n",
    "    Y_probas = [mc_model.predict(X) for sample in range(n_samples)]\n",
    "    return np.mean(Y_probas, axis=0)\n",
    "\n",
    "def mc_dropout_predict_classes(mc_model, X, n_samples=10):\n",
    "    Y_probas = mc_dropout_predict_probas(mc_model, X, n_samples)\n",
    "    return np.argmax(Y_probas, axis=1)"
   ]
  },
  {
   "cell_type": "code",
   "execution_count": 91,
   "id": "bffee989",
   "metadata": {},
   "outputs": [
    {
     "data": {
      "text/plain": [
       "0.2512"
      ]
     },
     "execution_count": 91,
     "metadata": {},
     "output_type": "execute_result"
    }
   ],
   "source": [
    "keras.backend.clear_session()\n",
    "tf.random.set_seed(42)\n",
    "np.random.seed(42)\n",
    "\n",
    "y_pred = mc_dropout_predict_classes(model5, X_val_scaled)\n",
    "accuracy = np.mean(y_pred == y_val[:, 0])\n",
    "accuracy"
   ]
  },
  {
   "cell_type": "code",
   "execution_count": 144,
   "id": "4d4cd138",
   "metadata": {},
   "outputs": [],
   "source": [
    "model6 = keras.models.Sequential()\n",
    "model6.add(keras.layers.Flatten(input_shape=[32,32,3]))\n",
    "for layers in range(20):\n",
    "    model6.add(keras.layers.Dense(100, activation ='selu', kernel_initializer='lecun_normal'))  \n",
    "    \n",
    "model6.add(keras.layers.AlphaDropout(0.1))\n",
    "model6.add(keras.layers.Dense(10, activation=\"softmax\"))\n",
    "\n",
    "model6.compile(loss=\"sparse_categorical_crossentropy\",\n",
    "              optimizer=keras.optimizers.SGD(learning_rate=1e-2), \n",
    "               metrics = 'accuracy')\n",
    "expon_lr = ExponentialLearningRate(factor=1.005)"
   ]
  },
  {
   "cell_type": "code",
   "execution_count": 94,
   "id": "36096ccd",
   "metadata": {},
   "outputs": [
    {
     "name": "stdout",
     "output_type": "stream",
     "text": [
      "   6/1250 [..............................] - ETA: 1:04 - loss: 2.8028 - accuracy: 0.1406WARNING:tensorflow:Callback method `on_train_batch_end` is slow compared to the batch time (batch time: 0.0150s vs `on_train_batch_end` time: 0.0347s). Check your callbacks.\n",
      "1250/1250 [==============================] - 64s 50ms/step - loss: 54796356819949375453252691165184.0000 - accuracy: 0.1218 - val_loss: 594467162960104784323415021453312.0000 - val_accuracy: 0.0997\n"
     ]
    }
   ],
   "source": [
    "history = model6.fit(X_train_scaled, y_train, epochs=1,\n",
    "                    validation_data=(X_val_scaled, y_val),\n",
    "                    callbacks=[expon_lr])"
   ]
  },
  {
   "cell_type": "code",
   "execution_count": 95,
   "id": "3da24fd8",
   "metadata": {},
   "outputs": [
    {
     "data": {
      "text/plain": [
       "Text(0, 0.5, 'Loss')"
      ]
     },
     "execution_count": 95,
     "metadata": {},
     "output_type": "execute_result"
    },
    {
     "data": {
      "image/png": "[encoded data removed]",
      "text/plain": [
       "<Figure size 432x288 with 1 Axes>"
      ]
     },
     "metadata": {
      "needs_background": "light"
     },
     "output_type": "display_data"
    }
   ],
   "source": [
    "plt.plot(expon_lr.rates, expon_lr.losses)\n",
    "plt.gca().set_xscale('log')\n",
    "plt.hlines(min(expon_lr.losses), min(expon_lr.rates), max(expon_lr.rates))\n",
    "plt.axis([min(expon_lr.rates), max(expon_lr.rates), 0, 4])\n",
    "plt.grid()\n",
    "plt.xlabel(\"Learning rate\")\n",
    "plt.ylabel(\"Loss\")"
   ]
  },
  {
   "cell_type": "code",
   "execution_count": 145,
   "id": "4bac0bcd",
   "metadata": {},
   "outputs": [],
   "source": [
    "class OneCycleScheduler(keras.callbacks.Callback):\n",
    "    def __init__(self, iterations, max_rate, start_rate=None,\n",
    "                 last_iterations=None, last_rate=None):\n",
    "        self.iterations = iterations\n",
    "        self.max_rate = max_rate\n",
    "        self.start_rate = start_rate or max_rate / 10\n",
    "        self.last_iterations = last_iterations or iterations // 10 + 1\n",
    "        self.half_iteration = (iterations - self.last_iterations) // 2\n",
    "        self.last_rate = last_rate or self.start_rate / 1000\n",
    "        self.iteration = 0\n",
    "    def _interpolate(self, iter1, iter2, rate1, rate2):\n",
    "        return ((rate2 - rate1) * (self.iteration - iter1)\n",
    "                / (iter2 - iter1) + rate1)\n",
    "    def on_batch_begin(self, batch, logs):\n",
    "        if self.iteration < self.half_iteration:\n",
    "            rate = self._interpolate(0, self.half_iteration, self.start_rate, self.max_rate)\n",
    "        elif self.iteration < 2 * self.half_iteration:\n",
    "            rate = self._interpolate(self.half_iteration, 2 * self.half_iteration,\n",
    "                                     self.max_rate, self.start_rate)\n",
    "        else:\n",
    "            rate = self._interpolate(2 * self.half_iteration, self.iterations,\n",
    "                                     self.start_rate, self.last_rate)\n",
    "        self.iteration += 1\n",
    "        K.set_value(self.model.optimizer.learning_rate, rate)"
   ]
  },
  {
   "cell_type": "code",
   "execution_count": 146,
   "id": "56f76cd4",
   "metadata": {},
   "outputs": [
    {
     "name": "stdout",
     "output_type": "stream",
     "text": [
      "Epoch 1/15\n",
      "313/313 [==============================] - 4s 13ms/step - loss: 2.0218 - accuracy: 0.2890 - val_loss: 1.8126 - val_accuracy: 0.3564\n",
      "Epoch 2/15\n",
      "313/313 [==============================] - 4s 13ms/step - loss: 1.7366 - accuracy: 0.3862 - val_loss: 1.8275 - val_accuracy: 0.3576\n",
      "Epoch 3/15\n",
      "313/313 [==============================] - 4s 13ms/step - loss: 1.6252 - accuracy: 0.4246 - val_loss: 1.7499 - val_accuracy: 0.4176\n",
      "Epoch 4/15\n",
      "313/313 [==============================] - 4s 13ms/step - loss: 1.5665 - accuracy: 0.4427 - val_loss: 1.6464 - val_accuracy: 0.4259\n",
      "Epoch 5/15\n",
      "313/313 [==============================] - 4s 12ms/step - loss: 1.5226 - accuracy: 0.4622 - val_loss: 1.7671 - val_accuracy: 0.4163\n",
      "Epoch 6/15\n",
      "313/313 [==============================] - 4s 13ms/step - loss: 1.4994 - accuracy: 0.4694 - val_loss: 1.7059 - val_accuracy: 0.4212\n",
      "Epoch 7/15\n",
      "313/313 [==============================] - 4s 13ms/step - loss: 1.4690 - accuracy: 0.4825 - val_loss: 1.6816 - val_accuracy: 0.4445\n",
      "Epoch 8/15\n",
      "313/313 [==============================] - 4s 13ms/step - loss: 1.3902 - accuracy: 0.5093 - val_loss: 1.7223 - val_accuracy: 0.4518\n",
      "Epoch 9/15\n",
      "313/313 [==============================] - 4s 13ms/step - loss: 1.2977 - accuracy: 0.5431 - val_loss: 1.6070 - val_accuracy: 0.4722\n",
      "Epoch 10/15\n",
      "313/313 [==============================] - 4s 14ms/step - loss: 1.2226 - accuracy: 0.5686 - val_loss: 1.6046 - val_accuracy: 0.4772\n",
      "Epoch 11/15\n",
      "313/313 [==============================] - 4s 12ms/step - loss: 1.1429 - accuracy: 0.5967 - val_loss: 1.6339 - val_accuracy: 0.4889\n",
      "Epoch 12/15\n",
      "313/313 [==============================] - 4s 13ms/step - loss: 1.0618 - accuracy: 0.6232 - val_loss: 1.5631 - val_accuracy: 0.5103\n",
      "Epoch 13/15\n",
      "313/313 [==============================] - 4s 13ms/step - loss: 0.9774 - accuracy: 0.6550 - val_loss: 1.5803 - val_accuracy: 0.5191\n",
      "Epoch 14/15\n",
      "313/313 [==============================] - 4s 13ms/step - loss: 0.9004 - accuracy: 0.6830 - val_loss: 1.6234 - val_accuracy: 0.5209\n",
      "Epoch 15/15\n",
      "313/313 [==============================] - 4s 12ms/step - loss: 0.8476 - accuracy: 0.7029 - val_loss: 1.6550 - val_accuracy: 0.5209\n"
     ]
    }
   ],
   "source": [
    "n_epochs = 15\n",
    "batch_size =128\n",
    "onecycle = OneCycleScheduler(np.ceil(len(X_train) / batch_size) * n_epochs, max_rate=0.1)\n",
    "history = model6.fit(X_train_scaled, y_train, epochs=n_epochs, batch_size = batch_size,\n",
    "                    validation_data=(X_val_scaled, y_val),\n",
    "                    callbacks=[onecycle, checkpoint_cb, early_stopping_cb])"
   ]
  },
  {
   "cell_type": "code",
   "execution_count": 147,
   "id": "63377150",
   "metadata": {},
   "outputs": [],
   "source": [
    "y_prob=model6.predict(X_test_scaled)"
   ]
  },
  {
   "cell_type": "code",
   "execution_count": 148,
   "id": "91d367f3",
   "metadata": {},
   "outputs": [],
   "source": [
    "y_pred = np.argmax(y_prob, axis=1)"
   ]
  },
  {
   "cell_type": "code",
   "execution_count": 149,
   "id": "6787cede",
   "metadata": {},
   "outputs": [
    {
     "data": {
      "text/plain": [
       "[<matplotlib.lines.Line2D at 0x23328e96940>]"
      ]
     },
     "execution_count": 149,
     "metadata": {},
     "output_type": "execute_result"
    },
    {
     "data": {
      "image/png": "[encoded data removed]",
      "text/plain": [
       "<Figure size 432x288 with 1 Axes>"
      ]
     },
     "metadata": {
      "needs_background": "light"
     },
     "output_type": "display_data"
    }
   ],
   "source": [
    "import matplotlib.pyplot as plt\n",
    "\n",
    "plt.plot(y_pred, '*')"
   ]
  },
  {
   "cell_type": "code",
   "execution_count": 134,
   "id": "f4ca1a98",
   "metadata": {},
   "outputs": [
    {
     "data": {
      "text/plain": [
       "[<matplotlib.lines.Line2D at 0x2333eaff9a0>]"
      ]
     },
     "execution_count": 134,
     "metadata": {},
     "output_type": "execute_result"
    },
    {
     "data": {
      "image/png": "[encoded data removed]",
      "text/plain": [
       "<Figure size 432x288 with 1 Axes>"
      ]
     },
     "metadata": {
      "needs_background": "light"
     },
     "output_type": "display_data"
    }
   ],
   "source": [
    "plt.plot(y_test,  '*')"
   ]
  }
 ],
 "metadata": {
  "kernelspec": {
   "display_name": "Python 3 (ipykernel)",
   "language": "python",
   "name": "python3"
  },
  "language_info": {
   "codemirror_mode": {
    "name": "ipython",
    "version": 3
   },
   "file_extension": ".py",
   "mimetype": "text/x-python",
   "name": "python",
   "nbconvert_exporter": "python",
   "pygments_lexer": "ipython3",
   "version": "3.8.12"
  }
 },
 "nbformat": 4,
 "nbformat_minor": 5
}
